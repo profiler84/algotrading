{
 "cells": [
  {
   "cell_type": "code",
   "execution_count": 9,
   "metadata": {},
   "outputs": [],
   "source": [
    "%matplotlib  inline\n",
    "import pandas as pd\n",
    "from datetime import datetime, timedelta\n",
    "from functools import partial\n",
    "import time\n",
    "import numpy as np\n",
    "import matplotlib.pyplot as plt\n",
    "import scipy.ndimage as ndimage\n",
    "from ipywidgets import *\n",
    "from ipywidgets import interact,fixed\n",
    "from pykalman import KalmanFilter\n",
    "pd.set_option('display.max_columns', 150)\n",
    "pd.options.display.max_rows = 150\n"
   ]
  },
  {
   "cell_type": "code",
   "execution_count": 48,
   "metadata": {},
   "outputs": [],
   "source": [
    "file = 'results_final.pkl'\n",
    "df = pd.read_pickle(file)"
   ]
  },
  {
   "cell_type": "code",
   "execution_count": 59,
   "metadata": {},
   "outputs": [
    {
     "name": "stdout",
     "output_type": "stream",
     "text": [
      "wt_signal ratio: 0.5147302904564315\n",
      "stochrsi_signal ratio: 0.4960433692046282\n",
      "macd_signal ratio: 0.5171232876712328\n",
      "rsi_signal ratio: 0.4864990689013035\n",
      "momentum_signal ratio: 0.5004732254047323\n",
      "tsi_signal ratio: 0.504545706524752\n",
      "kst_signal ratio: 0.5028932189602898\n",
      "cci_signal ratio: 0.5818181818181818\n"
     ]
    }
   ],
   "source": [
    "cols = [col for col in df.columns if 'signal' in col]\n",
    "cols.pop(0)\n",
    "for col in cols:\n",
    "    data = df[df[col] != 0][['signal','endtime','time_diff_hours','end_price','pct_change','MNE_distance_from_start','MNE_time'\n",
    "                           ,'Price_diff_end_start',col]]\n",
    "    ratio = len(df[df.signal == df[col]]) / len(data)\n",
    "    print (col + ' ratio: '+ str(ratio))"
   ]
  },
  {
   "cell_type": "code",
   "execution_count": 71,
   "metadata": {},
   "outputs": [
    {
     "name": "stdout",
     "output_type": "stream",
     "text": [
      "wt_signal ratio: 0.05514316012725345\n",
      "stochrsi_signal ratio: 0.057925499432958216\n",
      "macd_signal ratio: 0.06258148631029987\n",
      "rsi_signal ratio: 0.04555808656036447\n",
      "momentum_signal ratio: 0.05780768607102319\n",
      "tsi_signal ratio: 0.057184616789988124\n",
      "kst_signal ratio: 0.05799898892412335\n",
      "cci_signal ratio: 0.0\n"
     ]
    },
    {
     "name": "stderr",
     "output_type": "stream",
     "text": [
      "C:\\Users\\prof\\AppData\\Local\\Continuum\\anaconda3\\lib\\site-packages\\ipykernel_launcher.py:2: RuntimeWarning: invalid value encountered in sign\n",
      "  \n",
      "C:\\Users\\prof\\AppData\\Local\\Continuum\\anaconda3\\lib\\site-packages\\ipykernel_launcher.py:4: RuntimeWarning: invalid value encountered in sign\n",
      "  after removing the cwd from sys.path.\n"
     ]
    }
   ],
   "source": [
    "for col in cols:\n",
    "    data = df[(df[col] != 0) & (np.absolute(df.seasonal_percentage)>0.4) & ( np.sign(df.seasonal_percentage) == np.sign(df[col]) )][['signal','endtime','time_diff_hours','end_price','pct_change','MNE_distance_from_start','MNE_time'\n",
    "                           ,'Price_diff_end_start',col]]\n",
    "    ratio = len(df[(df.signal == df[col]) & (np.absolute(df.seasonal_percentage)>0.7) & ( np.sign(df.seasonal_percentage) == np.sign(df[col]) )]) / len(data)\n",
    "    print (col + ' ratio: '+ str(ratio))"
   ]
  },
  {
   "cell_type": "code",
   "execution_count": 64,
   "metadata": {},
   "outputs": [
    {
     "data": {
      "text/plain": [
       "count    106786.000000\n",
       "mean          0.165497\n",
       "std           0.364346\n",
       "min          -0.961869\n",
       "25%          -0.060954\n",
       "50%           0.239933\n",
       "75%           0.434446\n",
       "max           1.000000\n",
       "Name: seasonal_percentage, dtype: float64"
      ]
     },
     "execution_count": 64,
     "metadata": {},
     "output_type": "execute_result"
    }
   ],
   "source": [
    "df.seasonal_percentage.describe()"
   ]
  },
  {
   "cell_type": "code",
   "execution_count": null,
   "metadata": {},
   "outputs": [],
   "source": []
  }
 ],
 "metadata": {
  "kernelspec": {
   "display_name": "Python 3",
   "language": "python",
   "name": "python3"
  },
  "language_info": {
   "codemirror_mode": {
    "name": "ipython",
    "version": 3
   },
   "file_extension": ".py",
   "mimetype": "text/x-python",
   "name": "python",
   "nbconvert_exporter": "python",
   "pygments_lexer": "ipython3",
   "version": "3.6.6"
  }
 },
 "nbformat": 4,
 "nbformat_minor": 2
}
