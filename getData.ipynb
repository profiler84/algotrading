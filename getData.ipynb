{
 "cells": [
  {
   "cell_type": "code",
   "execution_count": 4,
   "metadata": {},
   "outputs": [],
   "source": [
    "\n",
    "%matplotlib  inline\n",
    "import pandas as pd\n",
    "from datetime import datetime\n",
    "import quandl\n",
    "import numpy as np\n",
    "import matplotlib.pyplot as plt\n",
    "import ssl\n",
    "import sklearn.preprocessing as prep\n",
    "import os\n",
    "import ssl\n",
    "import datetime\n",
    "import ta\n",
    "pd.core.common.is_list_like = pd.api.types.is_list_like\n",
    "from pandas_datareader import data as pdr\n",
    "import fix_yahoo_finance as yf\n",
    "yf.pdr_override() # <== that's all it takes :-)\n",
    "\n",
    "\n"
   ]
  },
  {
   "cell_type": "code",
   "execution_count": 8,
   "metadata": {},
   "outputs": [
    {
     "name": "stdout",
     "output_type": "stream",
     "text": [
      "[*********************100%***********************]  1 of 1 downloaded\n"
     ]
    },
    {
     "ename": "ValueError",
     "evalue": "zero-size array to reduction operation maximum which has no identity",
     "output_type": "error",
     "traceback": [
      "\u001b[1;31m---------------------------------------------------------------------------\u001b[0m",
      "\u001b[1;31mValueError\u001b[0m                                Traceback (most recent call last)",
      "\u001b[1;32m<ipython-input-8-bff5b027d1eb>\u001b[0m in \u001b[0;36m<module>\u001b[1;34m()\u001b[0m\n\u001b[0;32m      3\u001b[0m \u001b[1;33m\u001b[0m\u001b[0m\n\u001b[0;32m      4\u001b[0m \u001b[1;33m\u001b[0m\u001b[0m\n\u001b[1;32m----> 5\u001b[1;33m \u001b[0mINTC\u001b[0m \u001b[1;33m=\u001b[0m \u001b[0mpdr\u001b[0m\u001b[1;33m.\u001b[0m\u001b[0mget_data_yahoo\u001b[0m\u001b[1;33m(\u001b[0m\u001b[1;34m\"INTC\"\u001b[0m\u001b[1;33m,\u001b[0m\u001b[0mstart\u001b[0m\u001b[1;33m=\u001b[0m\u001b[0mstart\u001b[0m\u001b[1;33m)\u001b[0m\u001b[1;33m\u001b[0m\u001b[0m\n\u001b[0m\u001b[0;32m      6\u001b[0m \u001b[0mMSFT\u001b[0m \u001b[1;33m=\u001b[0m \u001b[0mpdr\u001b[0m\u001b[1;33m.\u001b[0m\u001b[0mget_data_yahoo\u001b[0m\u001b[1;33m(\u001b[0m\u001b[1;34m\"MSFT\"\u001b[0m\u001b[1;33m,\u001b[0m\u001b[0mstart\u001b[0m\u001b[1;33m=\u001b[0m\u001b[0mstart\u001b[0m\u001b[1;33m)\u001b[0m\u001b[1;33m\u001b[0m\u001b[0m\n\u001b[0;32m      7\u001b[0m \u001b[0mAMZN\u001b[0m \u001b[1;33m=\u001b[0m \u001b[0mpdr\u001b[0m\u001b[1;33m.\u001b[0m\u001b[0mget_data_yahoo\u001b[0m\u001b[1;33m(\u001b[0m\u001b[1;34m\"AMZN\"\u001b[0m\u001b[1;33m,\u001b[0m\u001b[0mstart\u001b[0m\u001b[1;33m=\u001b[0m\u001b[0mstart\u001b[0m\u001b[1;33m)\u001b[0m\u001b[1;33m\u001b[0m\u001b[0m\n",
      "\u001b[1;32mC:\\ProgramData\\Anaconda3\\lib\\site-packages\\fix_yahoo_finance\\__init__.py\u001b[0m in \u001b[0;36mdownload\u001b[1;34m(tickers, start, end, as_panel, group_by, auto_adjust, progress, actions, threads, **kwargs)\u001b[0m\n\u001b[0;32m    200\u001b[0m         \u001b[1;32melse\u001b[0m\u001b[1;33m:\u001b[0m\u001b[1;33m\u001b[0m\u001b[0m\n\u001b[0;32m    201\u001b[0m             data = data[['Open', 'High', 'Low',\n\u001b[1;32m--> 202\u001b[1;33m                             'Close', 'Adj Close', 'Volume']]\n\u001b[0m\u001b[0;32m    203\u001b[0m \u001b[1;33m\u001b[0m\u001b[0m\n\u001b[0;32m    204\u001b[0m     \u001b[1;31m# return single df if only one ticker\u001b[0m\u001b[1;33m\u001b[0m\u001b[1;33m\u001b[0m\u001b[0m\n",
      "\u001b[1;32mC:\\ProgramData\\Anaconda3\\lib\\site-packages\\pandas\\core\\frame.py\u001b[0m in \u001b[0;36m__getitem__\u001b[1;34m(self, key)\u001b[0m\n\u001b[0;32m   2677\u001b[0m         \u001b[1;32mif\u001b[0m \u001b[0misinstance\u001b[0m\u001b[1;33m(\u001b[0m\u001b[0mkey\u001b[0m\u001b[1;33m,\u001b[0m \u001b[1;33m(\u001b[0m\u001b[0mSeries\u001b[0m\u001b[1;33m,\u001b[0m \u001b[0mnp\u001b[0m\u001b[1;33m.\u001b[0m\u001b[0mndarray\u001b[0m\u001b[1;33m,\u001b[0m \u001b[0mIndex\u001b[0m\u001b[1;33m,\u001b[0m \u001b[0mlist\u001b[0m\u001b[1;33m)\u001b[0m\u001b[1;33m)\u001b[0m\u001b[1;33m:\u001b[0m\u001b[1;33m\u001b[0m\u001b[0m\n\u001b[0;32m   2678\u001b[0m             \u001b[1;31m# either boolean or fancy integer index\u001b[0m\u001b[1;33m\u001b[0m\u001b[1;33m\u001b[0m\u001b[0m\n\u001b[1;32m-> 2679\u001b[1;33m             \u001b[1;32mreturn\u001b[0m \u001b[0mself\u001b[0m\u001b[1;33m.\u001b[0m\u001b[0m_getitem_array\u001b[0m\u001b[1;33m(\u001b[0m\u001b[0mkey\u001b[0m\u001b[1;33m)\u001b[0m\u001b[1;33m\u001b[0m\u001b[0m\n\u001b[0m\u001b[0;32m   2680\u001b[0m         \u001b[1;32melif\u001b[0m \u001b[0misinstance\u001b[0m\u001b[1;33m(\u001b[0m\u001b[0mkey\u001b[0m\u001b[1;33m,\u001b[0m \u001b[0mDataFrame\u001b[0m\u001b[1;33m)\u001b[0m\u001b[1;33m:\u001b[0m\u001b[1;33m\u001b[0m\u001b[0m\n\u001b[0;32m   2681\u001b[0m             \u001b[1;32mreturn\u001b[0m \u001b[0mself\u001b[0m\u001b[1;33m.\u001b[0m\u001b[0m_getitem_frame\u001b[0m\u001b[1;33m(\u001b[0m\u001b[0mkey\u001b[0m\u001b[1;33m)\u001b[0m\u001b[1;33m\u001b[0m\u001b[0m\n",
      "\u001b[1;32mC:\\ProgramData\\Anaconda3\\lib\\site-packages\\pandas\\core\\frame.py\u001b[0m in \u001b[0;36m_getitem_array\u001b[1;34m(self, key)\u001b[0m\n\u001b[0;32m   2721\u001b[0m             \u001b[1;32mreturn\u001b[0m \u001b[0mself\u001b[0m\u001b[1;33m.\u001b[0m\u001b[0m_take\u001b[0m\u001b[1;33m(\u001b[0m\u001b[0mindexer\u001b[0m\u001b[1;33m,\u001b[0m \u001b[0maxis\u001b[0m\u001b[1;33m=\u001b[0m\u001b[1;36m0\u001b[0m\u001b[1;33m)\u001b[0m\u001b[1;33m\u001b[0m\u001b[0m\n\u001b[0;32m   2722\u001b[0m         \u001b[1;32melse\u001b[0m\u001b[1;33m:\u001b[0m\u001b[1;33m\u001b[0m\u001b[0m\n\u001b[1;32m-> 2723\u001b[1;33m             \u001b[0mindexer\u001b[0m \u001b[1;33m=\u001b[0m \u001b[0mself\u001b[0m\u001b[1;33m.\u001b[0m\u001b[0mloc\u001b[0m\u001b[1;33m.\u001b[0m\u001b[0m_convert_to_indexer\u001b[0m\u001b[1;33m(\u001b[0m\u001b[0mkey\u001b[0m\u001b[1;33m,\u001b[0m \u001b[0maxis\u001b[0m\u001b[1;33m=\u001b[0m\u001b[1;36m1\u001b[0m\u001b[1;33m)\u001b[0m\u001b[1;33m\u001b[0m\u001b[0m\n\u001b[0m\u001b[0;32m   2724\u001b[0m             \u001b[1;32mreturn\u001b[0m \u001b[0mself\u001b[0m\u001b[1;33m.\u001b[0m\u001b[0m_take\u001b[0m\u001b[1;33m(\u001b[0m\u001b[0mindexer\u001b[0m\u001b[1;33m,\u001b[0m \u001b[0maxis\u001b[0m\u001b[1;33m=\u001b[0m\u001b[1;36m1\u001b[0m\u001b[1;33m)\u001b[0m\u001b[1;33m\u001b[0m\u001b[0m\n\u001b[0;32m   2725\u001b[0m \u001b[1;33m\u001b[0m\u001b[0m\n",
      "\u001b[1;32mC:\\ProgramData\\Anaconda3\\lib\\site-packages\\pandas\\core\\indexing.py\u001b[0m in \u001b[0;36m_convert_to_indexer\u001b[1;34m(self, obj, axis, is_setter)\u001b[0m\n\u001b[0;32m   1306\u001b[0m                 \u001b[1;31m# if it cannot handle\u001b[0m\u001b[1;33m\u001b[0m\u001b[1;33m\u001b[0m\u001b[0m\n\u001b[0;32m   1307\u001b[0m                 indexer, objarr = labels._convert_listlike_indexer(\n\u001b[1;32m-> 1308\u001b[1;33m                     obj, kind=self.name)\n\u001b[0m\u001b[0;32m   1309\u001b[0m                 \u001b[1;32mif\u001b[0m \u001b[0mindexer\u001b[0m \u001b[1;32mis\u001b[0m \u001b[1;32mnot\u001b[0m \u001b[1;32mNone\u001b[0m\u001b[1;33m:\u001b[0m\u001b[1;33m\u001b[0m\u001b[0m\n\u001b[0;32m   1310\u001b[0m                     \u001b[1;32mreturn\u001b[0m \u001b[0mindexer\u001b[0m\u001b[1;33m\u001b[0m\u001b[0m\n",
      "\u001b[1;32mC:\\ProgramData\\Anaconda3\\lib\\site-packages\\pandas\\core\\indexes\\multi.py\u001b[0m in \u001b[0;36m_convert_listlike_indexer\u001b[1;34m(self, keyarr, kind)\u001b[0m\n\u001b[0;32m   1993\u001b[0m                                                               tuple):\n\u001b[0;32m   1994\u001b[0m             \u001b[0mlevel\u001b[0m \u001b[1;33m=\u001b[0m \u001b[1;36m0\u001b[0m\u001b[1;33m\u001b[0m\u001b[0m\n\u001b[1;32m-> 1995\u001b[1;33m             \u001b[0m_\u001b[0m\u001b[1;33m,\u001b[0m \u001b[0mindexer\u001b[0m \u001b[1;33m=\u001b[0m \u001b[0mself\u001b[0m\u001b[1;33m.\u001b[0m\u001b[0mreindex\u001b[0m\u001b[1;33m(\u001b[0m\u001b[0mkeyarr\u001b[0m\u001b[1;33m,\u001b[0m \u001b[0mlevel\u001b[0m\u001b[1;33m=\u001b[0m\u001b[0mlevel\u001b[0m\u001b[1;33m)\u001b[0m\u001b[1;33m\u001b[0m\u001b[0m\n\u001b[0m\u001b[0;32m   1996\u001b[0m \u001b[1;33m\u001b[0m\u001b[0m\n\u001b[0;32m   1997\u001b[0m             \u001b[1;31m# take all\u001b[0m\u001b[1;33m\u001b[0m\u001b[1;33m\u001b[0m\u001b[0m\n",
      "\u001b[1;32mC:\\ProgramData\\Anaconda3\\lib\\site-packages\\pandas\\core\\indexes\\multi.py\u001b[0m in \u001b[0;36mreindex\u001b[1;34m(self, target, method, level, limit, tolerance)\u001b[0m\n\u001b[0;32m   2082\u001b[0m             target, indexer, _ = self._join_level(target, level, how='right',\n\u001b[0;32m   2083\u001b[0m                                                   \u001b[0mreturn_indexers\u001b[0m\u001b[1;33m=\u001b[0m\u001b[1;32mTrue\u001b[0m\u001b[1;33m,\u001b[0m\u001b[1;33m\u001b[0m\u001b[0m\n\u001b[1;32m-> 2084\u001b[1;33m                                                   keep_order=False)\n\u001b[0m\u001b[0;32m   2085\u001b[0m         \u001b[1;32melse\u001b[0m\u001b[1;33m:\u001b[0m\u001b[1;33m\u001b[0m\u001b[0m\n\u001b[0;32m   2086\u001b[0m             \u001b[0mtarget\u001b[0m \u001b[1;33m=\u001b[0m \u001b[0m_ensure_index\u001b[0m\u001b[1;33m(\u001b[0m\u001b[0mtarget\u001b[0m\u001b[1;33m)\u001b[0m\u001b[1;33m\u001b[0m\u001b[0m\n",
      "\u001b[1;32mC:\\ProgramData\\Anaconda3\\lib\\site-packages\\pandas\\core\\indexes\\base.py\u001b[0m in \u001b[0;36m_join_level\u001b[1;34m(self, other, level, how, return_indexers, keep_order)\u001b[0m\n\u001b[0;32m   3950\u001b[0m             \u001b[1;32melse\u001b[0m\u001b[1;33m:\u001b[0m  \u001b[1;31m# tie out the order with other\u001b[0m\u001b[1;33m\u001b[0m\u001b[0m\n\u001b[0;32m   3951\u001b[0m                 \u001b[1;32mif\u001b[0m \u001b[0mlevel\u001b[0m \u001b[1;33m==\u001b[0m \u001b[1;36m0\u001b[0m\u001b[1;33m:\u001b[0m  \u001b[1;31m# outer most level, take the fast route\u001b[0m\u001b[1;33m\u001b[0m\u001b[0m\n\u001b[1;32m-> 3952\u001b[1;33m                     \u001b[0mngroups\u001b[0m \u001b[1;33m=\u001b[0m \u001b[1;36m1\u001b[0m \u001b[1;33m+\u001b[0m \u001b[0mnew_lev_labels\u001b[0m\u001b[1;33m.\u001b[0m\u001b[0mmax\u001b[0m\u001b[1;33m(\u001b[0m\u001b[1;33m)\u001b[0m\u001b[1;33m\u001b[0m\u001b[0m\n\u001b[0m\u001b[0;32m   3953\u001b[0m                     left_indexer, counts = libalgos.groupsort_indexer(\n\u001b[0;32m   3954\u001b[0m                         new_lev_labels, ngroups)\n",
      "\u001b[1;32mC:\\ProgramData\\Anaconda3\\lib\\site-packages\\numpy\\core\\_methods.py\u001b[0m in \u001b[0;36m_amax\u001b[1;34m(a, axis, out, keepdims)\u001b[0m\n\u001b[0;32m     24\u001b[0m \u001b[1;31m# small reductions\u001b[0m\u001b[1;33m\u001b[0m\u001b[1;33m\u001b[0m\u001b[0m\n\u001b[0;32m     25\u001b[0m \u001b[1;32mdef\u001b[0m \u001b[0m_amax\u001b[0m\u001b[1;33m(\u001b[0m\u001b[0ma\u001b[0m\u001b[1;33m,\u001b[0m \u001b[0maxis\u001b[0m\u001b[1;33m=\u001b[0m\u001b[1;32mNone\u001b[0m\u001b[1;33m,\u001b[0m \u001b[0mout\u001b[0m\u001b[1;33m=\u001b[0m\u001b[1;32mNone\u001b[0m\u001b[1;33m,\u001b[0m \u001b[0mkeepdims\u001b[0m\u001b[1;33m=\u001b[0m\u001b[1;32mFalse\u001b[0m\u001b[1;33m)\u001b[0m\u001b[1;33m:\u001b[0m\u001b[1;33m\u001b[0m\u001b[0m\n\u001b[1;32m---> 26\u001b[1;33m     \u001b[1;32mreturn\u001b[0m \u001b[0mumr_maximum\u001b[0m\u001b[1;33m(\u001b[0m\u001b[0ma\u001b[0m\u001b[1;33m,\u001b[0m \u001b[0maxis\u001b[0m\u001b[1;33m,\u001b[0m \u001b[1;32mNone\u001b[0m\u001b[1;33m,\u001b[0m \u001b[0mout\u001b[0m\u001b[1;33m,\u001b[0m \u001b[0mkeepdims\u001b[0m\u001b[1;33m)\u001b[0m\u001b[1;33m\u001b[0m\u001b[0m\n\u001b[0m\u001b[0;32m     27\u001b[0m \u001b[1;33m\u001b[0m\u001b[0m\n\u001b[0;32m     28\u001b[0m \u001b[1;32mdef\u001b[0m \u001b[0m_amin\u001b[0m\u001b[1;33m(\u001b[0m\u001b[0ma\u001b[0m\u001b[1;33m,\u001b[0m \u001b[0maxis\u001b[0m\u001b[1;33m=\u001b[0m\u001b[1;32mNone\u001b[0m\u001b[1;33m,\u001b[0m \u001b[0mout\u001b[0m\u001b[1;33m=\u001b[0m\u001b[1;32mNone\u001b[0m\u001b[1;33m,\u001b[0m \u001b[0mkeepdims\u001b[0m\u001b[1;33m=\u001b[0m\u001b[1;32mFalse\u001b[0m\u001b[1;33m)\u001b[0m\u001b[1;33m:\u001b[0m\u001b[1;33m\u001b[0m\u001b[0m\n",
      "\u001b[1;31mValueError\u001b[0m: zero-size array to reduction operation maximum which has no identity"
     ]
    }
   ],
   "source": [
    "quandl.ApiConfig.api_key = \"xoemPs9s3Dtwf3aQxQ-3\"\n",
    "start=\"2010-01-02\"\n",
    "\n",
    "\n",
    "INTC = pdr.get_data_yahoo(\"INTC\",start=start)\n",
    "MSFT = pdr.get_data_yahoo(\"MSFT\",start=start)\n",
    "AMZN = pdr.get_data_yahoo(\"AMZN\",start=start)\n",
    "NVDA = pdr.get_data_yahoo(\"NVDA\",start=start)\n",
    "GOOG = pdr.get_data_yahoo(\"GOOG\",start=start)\n",
    "NFLX = pdr.get_data_yahoo(\"NFLX\",start=start)\n",
    "FB = pdr.get_data_yahoo(\"FB\",start=start)\n",
    "# macro data \n",
    "EUROSTOXX50 = pdr.get_data_yahoo(\"FEZ\",start=start)\n",
    "SNP500 = pdr.get_data_yahoo(\"^GSPC\",start=start)\n",
    "CONS_DESCRETE = pdr.get_data_yahoo(\"XLY\",start=start)\n",
    "SNP_TECH = pdr.get_data_yahoo(\"XLK\",start=start)\n",
    "NASDAQ_COMP = pdr.get_data_yahoo(\"^IXIC\",start=start)\n",
    "\n",
    "# FRED & Treasury\n",
    "yieldr = quandl.get(\"USTREASURY/REALYIELD\", start_date=start, verify=False)\n",
    "consumer_price_index = quandl.get(\"FRED/CPIAUCSL\", start_date=start, verify=False)\n",
    "gdpc = quandl.get(\"FRED/GDPC1\", start_date=start, verify=False)\n",
    "tnote_y10 = quandl.get(\"FRED/DGS10\", start_date=start, verify=False)\n",
    "financial_stress = quandl.get(\"FRED/STLFSI\", start_date=start, verify=False)\n",
    "effective_federal_fund_rate = quandl.get(\"FRED/FEDFUNDS\", start_date=start, verify=False)\n"
   ]
  },
  {
   "cell_type": "code",
   "execution_count": null,
   "metadata": {},
   "outputs": [],
   "source": [
    "result = pd.concat([INTC, MSFT[['Close']].rename(columns={'Close': 'MSFT'})], axis=1)\n",
    "result = pd.concat([result, AMZN[['Close']].rename(columns={'Close': 'AMZN'})], axis=1)\n",
    "result = pd.concat([result, NVDA[['Close']].rename(columns={'Close': 'NVDA'})], axis=1)\n",
    "result = pd.concat([result, GOOG[['Close']].rename(columns={'Close': 'GOOG'})], axis=1)\n",
    "result = pd.concat([result, GOOG[['Close']].rename(columns={'Close': 'NFLX'})], axis=1)\n",
    "result = pd.concat([result, GOOG[['Close']].rename(columns={'Close': 'FB'})], axis=1)\n",
    "result = pd.concat([result, EUROSTOXX50[['Close']].rename(columns={'Close': 'EUROSTOXX50'})], axis=1)\n",
    "result = pd.concat([result, SNP500[['Close']].rename(columns={'Close': 'SNP500'})], axis=1)\n",
    "result = pd.concat([result, CONS_DESCRETE[['Close']].rename(columns={'Close': 'CONS_DESCRETE'})], axis=1)\n",
    "result = pd.concat([result, SNP_TECH[['Close']].rename(columns={'Close': 'SNP_TECH'})], axis=1)\n",
    "result = pd.concat([result, NASDAQ_COMP[['Close']].rename(columns={'Close': 'NASDAQ_COMP'})], axis=1)\n",
    "# fred\n",
    "result = pd.concat([result, yieldr[['5 YR']].rename(columns={'5 YR': 'yield_5y'})], axis=1)\n",
    "result = pd.concat([result, tnote_y10.rename(columns={'Value': 'Tnote_10y'})], axis=1)\n",
    "\n",
    "result = result.drop('Adj Close', axis=1)\n",
    "result['Weekday'] = result.index.weekday\n",
    "result['Daymonth'] = result.index.day\n",
    "result['Month'] = result.index.month\n",
    "result['Weakyear'] = result.index.weekofyear\n",
    "\n",
    "result = result.dropna()"
   ]
  },
  {
   "cell_type": "code",
   "execution_count": null,
   "metadata": {},
   "outputs": [],
   "source": [
    "result[['yield_5y']] = result[['yield_5y']].replace(0, 0.0000001)\n",
    "result[['yield_5y']] = result[['yield_5y']]+10\n",
    "\n",
    "def logReturns(df):\n",
    "    log_ret = np.log(df) - np.log(df.shift(1))\n",
    "    return log_ret\n",
    "\n",
    "logRet = result[['High','Low','Close','MSFT','AMZN','NVDA','GOOG','NFLX','FB','EUROSTOXX50','SNP500','CONS_DESCRETE','SNP_TECH','NASDAQ_COMP','yield_5y','Tnote_10y']].apply(logReturns)\n",
    "\n",
    "logRet.columns = [str(col) + '_logReturns' for col in logRet.columns]\n",
    "\n",
    "result = pd.concat([result, logRet], axis=1)\n",
    "scaler = prep.MaxAbsScaler().fit(result[['Volume']].values)\n",
    "result['Volume_Scaled'] = scaler.transform(result[['Volume']].values)\n",
    "\n",
    "result.head(3)"
   ]
  },
  {
   "cell_type": "code",
   "execution_count": null,
   "metadata": {},
   "outputs": [],
   "source": [
    "def tsi(close, r=25, s=13, fillna=True):\n",
    "    m = close - close.shift(1)\n",
    "    m1 = m.ewm(r).mean().ewm(s).mean()\n",
    "    m2 = abs(m).ewm(r).mean().ewm(s).mean()\n",
    "    tsi = m1/m2\n",
    "    if fillna:\n",
    "        tsi = tsi.fillna(0)\n",
    "    return pd.Series(100*tsi, name='tsi')\n",
    "\n",
    "def on_balance_volume(close, volume):\n",
    "    df = pd.DataFrame([close, volume]).transpose()\n",
    "    df['OBV'] = 0\n",
    "    c1 = close < close.shift(1)\n",
    "    c2 = close > close.shift(1)\n",
    "    if c1.any():\n",
    "        df.loc[c1, 'OBV'] = - volume\n",
    "    if c2.any():\n",
    "        df.loc[c2, 'OBV'] = volume\n",
    "    return df['OBV']\n",
    "\n",
    "def average_true_range(high, low, close, n=14, fillna=False):\n",
    "    \"\"\"Average True Range (ATR)\n",
    "    The indicator provide an indication of the degree of price volatility.\n",
    "    Strong moves, in either direction, are often accompanied by large ranges,\n",
    "    or large True Ranges.\n",
    "    http://stockcharts.com/school/doku.php?id=chart_school:technical_indicators:average_true_range_atr\n",
    "    Args:\n",
    "        high(pandas.Series): dataset 'High' column.\n",
    "        low(pandas.Series): dataset 'Low' column.\n",
    "        close(pandas.Series): dataset 'Close' column.\n",
    "        n(int): n period.\n",
    "    Returns:\n",
    "        pandas.Series: New feature generated.\n",
    "    \"\"\"\n",
    "    cs = close.shift(1)\n",
    "    tr = high.combine(cs, max) - low.combine(cs, min)\n",
    "    tr = tr.ewm(n).mean()\n",
    "    if fillna:\n",
    "        tr = tr.fillna(0)\n",
    "    return pd.Series(tr, name='atr')\n",
    "\n",
    "def kst(close, r1=10, r2=15, r3=20, r4=30, n1=10, n2=10, n3=10, n4=15, nsig=9, fillna=True):\n",
    "    rocma1 = (close / close.shift(r1) - 1).rolling(n1).mean()\n",
    "    rocma2 = (close / close.shift(r2) - 1).rolling(n2).mean()\n",
    "    rocma3 = (close / close.shift(r3) - 1).rolling(n3).mean()\n",
    "    rocma4 = (close / close.shift(r4) - 1).rolling(n4).mean()\n",
    "    kst = 100*(rocma1 + 2*rocma2 + 3*rocma3 + 4*rocma4)\n",
    "    sig = kst.rolling(nsig).mean()\n",
    "    if fillna:\n",
    "        sig = sig.fillna(0)\n",
    "    return pd.Series(sig, name='sig')\n",
    "\n",
    "momentum  =  result[['Close']].diff(periods=5)\n",
    "momentum  =  momentum[~np.isnan(momentum)]\n",
    "result['OBV'] = on_balance_volume(result[\"Close\"], result[\"Volume\"])\n",
    "result['TSI'] = tsi(result[\"Close\"])\n",
    "result['ATR'] = average_true_range(result[\"High\"],result[\"Low\"],result[\"Close\"])"
   ]
  },
  {
   "cell_type": "code",
   "execution_count": null,
   "metadata": {},
   "outputs": [],
   "source": [
    "scaler = prep.MaxAbsScaler().fit(result[['ATR']].values)\n",
    "result['ATR_Scaled'] = scaler.transform(result[['ATR']].values)\n",
    "\n",
    "scaler = prep.MaxAbsScaler().fit(result[['TSI']].values)\n",
    "result['TSI_Scaled'] = scaler.transform(result[['TSI']].values)\n",
    "\n",
    "scaler = prep.MaxAbsScaler().fit(result[['OBV']].values)\n",
    "result['OBV_Scaled'] = scaler.transform(result[['OBV']].values)"
   ]
  },
  {
   "cell_type": "code",
   "execution_count": null,
   "metadata": {},
   "outputs": [],
   "source": [
    "result['TSI_Scaled'] =  result['TSI_Scaled'].replace(-1,0)\n",
    "result = result.drop('TSI', axis=1)\n",
    "result = result.drop('ATR', axis=1)\n",
    "result = result.drop('OBV', axis=1)\n",
    "# delete 0 values\n",
    "result = result[result.TSI_Scaled != 0]"
   ]
  },
  {
   "cell_type": "code",
   "execution_count": null,
   "metadata": {},
   "outputs": [],
   "source": [
    "result.columns"
   ]
  },
  {
   "cell_type": "code",
   "execution_count": null,
   "metadata": {},
   "outputs": [],
   "source": [
    "train_data = result.drop(['Open', 'High','Low','Close','Volume','MSFT','AMZN','NVDA','GOOG','NFLX','FB'\n",
    "                          ,'EUROSTOXX50','SNP500','CONS_DESCRETE','SNP_TECH','NASDAQ_COMP','yield_5y'\n",
    "                          ,'Tnote_10y'], axis=1)"
   ]
  },
  {
   "cell_type": "code",
   "execution_count": null,
   "metadata": {},
   "outputs": [],
   "source": [
    "train_data.head(11)"
   ]
  },
  {
   "cell_type": "code",
   "execution_count": null,
   "metadata": {},
   "outputs": [],
   "source": [
    "# Plot intel log returns to other \n",
    "plt.subplot(7, 1, 1)\n",
    "plt.plot(train_data[['Close_logReturns']])\n",
    "plt.subplot(7, 1, 2)\n",
    "plt.plot(train_data[['SNP_TECH_logReturns']])\n",
    "plt.subplot(2, 1, 2)\n",
    "plt.plot(train_data[['yield_5y']])\n",
    "plt.subplot(2, 1, 2)\n",
    "plt.plot(train_data[['Tnote_10y']])\n",
    "plt.subplot(2, 1, 2)\n",
    "plt.plot(train_data[['SNP500']])\n",
    "plt.subplot(2, 1, 2)\n",
    "plt.plot(train_data[['CONS_DESCRETE']])\n",
    "plt.subplot(2, 1, 2)\n",
    "plt.plot(train_data[['NASDAQ_COMP_logReturns']])"
   ]
  },
  {
   "cell_type": "code",
   "execution_count": null,
   "metadata": {},
   "outputs": [],
   "source": []
  }
 ],
 "metadata": {
  "kernelspec": {
   "display_name": "Python 3",
   "language": "python",
   "name": "python3"
  },
  "language_info": {
   "codemirror_mode": {
    "name": "ipython",
    "version": 3
   },
   "file_extension": ".py",
   "mimetype": "text/x-python",
   "name": "python",
   "nbconvert_exporter": "python",
   "pygments_lexer": "ipython3",
   "version": "3.6.5"
  }
 },
 "nbformat": 4,
 "nbformat_minor": 2
}
