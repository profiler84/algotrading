{
 "cells": [
  {
   "cell_type": "code",
   "execution_count": 12,
   "metadata": {},
   "outputs": [
    {
     "name": "stderr",
     "output_type": "stream",
     "text": [
      "Using TensorFlow backend.\n"
     ]
    }
   ],
   "source": [
    "%matplotlib inline\n",
    "\n",
    "# plotting\n",
    "import matplotlib as mpl\n",
    "mpl.style.use('ggplot')\n",
    "import matplotlib.pyplot as plt\n",
    "\n",
    "# math and data manipulation\n",
    "import numpy as np\n",
    "import pandas as pd\n",
    "\n",
    "# to handle paths\n",
    "from pathlib import Path\n",
    "\n",
    "# set random seeds \n",
    "from numpy.random import seed\n",
    "from tensorflow import set_random_seed\n",
    "from sklearn.preprocessing import MinMaxScaler\n",
    "\n",
    "# modeling\n",
    "import keras\n",
    "from keras.models import Sequential\n",
    "from keras.layers import LSTM, Dense\n",
    "\n",
    "# progress bar\n",
    "from tqdm import tqdm\n",
    "\n",
    "RANDOM_SEED = 2018\n",
    "seed(RANDOM_SEED)\n",
    "set_random_seed(RANDOM_SEED)"
   ]
  },
  {
   "cell_type": "code",
   "execution_count": 21,
   "metadata": {},
   "outputs": [],
   "source": [
    "def describe_training_data(train_df):\n",
    "    num_training_series = train_df.series_id.nunique()\n",
    "    num_training_days = num_training_series * 28\n",
    "    num_training_hours = num_training_days * 24\n",
    "    assert num_training_hours == train_df.shape[0]\n",
    "    \n",
    "    desc = f'There are {num_training_series} training ' \\\n",
    "           f'series totaling {num_training_days} days ' \\\n",
    "           f'({num_training_hours} hours) of consumption data.'\n",
    "    \n",
    "    print(desc)\n",
    "    \n",
    "def metric(y_true, y_pred, season=None):\n",
    "    \"\"\"\n",
    "    It computes the score for a specific id and for a specific prediction \n",
    "    window. This function doesn't check if the two arguments have the same size\n",
    "    and if both have the same timestamp. The predictions in y_pred are made \n",
    "    hourly.\n",
    "    \n",
    "    Args:\n",
    "        y_true::DataFrame from pandas, Series from pandas \n",
    "            DataFrame with one column or more (it has to include consumption);\n",
    "            consumption has the true values.\n",
    "        \n",
    "        y_pred::DataFrame from pandas, Series from pandas\n",
    "            DataFrame with one column or more (it has to include consumption); \n",
    "            consumption has the predicted values.\n",
    "            \n",
    "        season::str\n",
    "            There are three options: daily, weekly and hourly.\n",
    "        \n",
    "    Returns:\n",
    "        score::float\n",
    "            It gives the score for a specific id\n",
    "        \n",
    "    \"\"\"\n",
    "    \n",
    "    window = {'daily': 24 / 7, 'weekly': 24 / 2, 'hourly': 24 / 24}\n",
    "    \n",
    "    if season == 'hourly':\n",
    "        print(window.get('hourly'))\n",
    "        ci = window.get('hourly') / y_true.consumption.values\n",
    "        score = np.mean(np.abs(y_true.consumption.values - \n",
    "                                y_pred.consumption.values) * ci)\n",
    "    \n",
    "    if season == 'daily':\n",
    "        print(window.get('daily'))\n",
    "        \n",
    "        div = y_pred.consumption.values.shape[0] / 24\n",
    "        y_pred_div = np.split(y_pred.consumption.values, div)\n",
    "        y_true_div = np.split(y_true.consumption.values, div)\n",
    "        last_sum = []\n",
    "        for i, array in enumerate(y_pred_div):\n",
    "            ci = window.get('daily') / np.sum(y_true_div[i])\n",
    "            print(ci)\n",
    "            last_sum.append(np.abs(np.sum(y_true_div[i]) - \n",
    "                                   np.sum(array)) * ci)\n",
    "        \n",
    "        score = np.mean(last_sum)\n",
    "    \n",
    "    if season == 'weekly':\n",
    "        print(window.get('weekly'))\n",
    "        \n",
    "        div = y_pred.consumption.values.shape[0] / 168\n",
    "        y_pred_div = np.split(y_pred.consumption.values, div)\n",
    "        y_true_div = np.split(y_true.consumption.values, div)\n",
    "        last_sum = []\n",
    "        for i, array in enumerate(y_pred_div):\n",
    "            ci = window.get('daily') / np.sum(y_true_div[i])\n",
    "            print(ci)\n",
    "            last_sum.append(np.abs(np.sum(y_true_div[i]) - \n",
    "                                   np.sum(array)) * ci)\n",
    "            print(last_sum)\n",
    "        \n",
    "        score = np.mean(last_sum)\n",
    "        \n",
    "    return score\n",
    "\n",
    "def create_lagged_features(df, lag=1):\n",
    "    if not type(df) == pd.DataFrame:\n",
    "        df = pd.DataFrame(df, columns=['consumption'])\n",
    "    \n",
    "    def _rename_lag(ser, j):\n",
    "        ser.name = ser.name + f'_{j}'\n",
    "        return ser\n",
    "        \n",
    "    # add a column lagged by `i` steps\n",
    "    for i in range(1, lag + 1):\n",
    "        df = df.join(df.consumption.shift(i).pipe(_rename_lag, i))\n",
    "\n",
    "    df.dropna(inplace=True)\n",
    "    return df\n",
    "\n",
    "def prepare_training_data(consumption_series, lag):\n",
    "    \"\"\" Converts a series of consumption data into a\n",
    "        lagged, scaled sample.\n",
    "    \"\"\"\n",
    "    # scale training data\n",
    "    scaler = MinMaxScaler(feature_range=(-1, 1))\n",
    "    consumption_vals = scaler.fit_transform(consumption_series.values.reshape(-1, 1))\n",
    "    \n",
    "    # convert consumption series to lagged features\n",
    "    consumption_lagged = create_lagged_features(consumption_vals, lag=lag)\n",
    "\n",
    "    # X, y format taking the first column (original time series) to be the y\n",
    "    X = consumption_lagged.drop('consumption', axis=1).values\n",
    "    y = consumption_lagged.consumption.values\n",
    "    \n",
    "    # keras expects 3 dimensional X\n",
    "    X = X.reshape(X.shape[0], 1, X.shape[1])\n",
    "    \n",
    "    return X, y, scaler\n",
    "\n",
    "def generate_hourly_forecast(num_pred_hours, consumption, model, scaler, lag):\n",
    "    \"\"\" Uses last hour's prediction to generate next for num_pred_hours, \n",
    "        initialized by most recent cold start prediction. Inverts scale of \n",
    "        predictions before return.\n",
    "    \"\"\"\n",
    "    # allocate prediction frame\n",
    "    preds_scaled = np.zeros(num_pred_hours)\n",
    "    \n",
    "    # initial X is last lag values from the cold start\n",
    "    X = scaler.transform(consumption.values.reshape(-1, 1))[-lag:]\n",
    "    \n",
    "    # forecast\n",
    "    for i in range(num_pred_hours):\n",
    "        # predict scaled value for next time step\n",
    "        yhat = model.predict(X.reshape(1, 1, lag), batch_size=1)[0][0]\n",
    "        preds_scaled[i] = yhat\n",
    "        \n",
    "        # update X to be latest data plus prediction\n",
    "        X = pd.Series(X.ravel()).shift(-1).fillna(yhat).values\n",
    "\n",
    "    # revert scale back to original range\n",
    "    hourly_preds = scaler.inverse_transform(preds_scaled.reshape(-1, 1)).ravel()\n",
    "    return hourly_preds"
   ]
  },
  {
   "cell_type": "code",
   "execution_count": 32,
   "metadata": {},
   "outputs": [
    {
     "name": "stdout",
     "output_type": "stream",
     "text": [
      "There are 758 training series totaling 21224 days (509376 hours) of consumption data.\n"
     ]
    },
    {
     "data": {
      "text/html": [
       "<div>\n",
       "<style scoped>\n",
       "    .dataframe tbody tr th:only-of-type {\n",
       "        vertical-align: middle;\n",
       "    }\n",
       "\n",
       "    .dataframe tbody tr th {\n",
       "        vertical-align: top;\n",
       "    }\n",
       "\n",
       "    .dataframe thead th {\n",
       "        text-align: right;\n",
       "    }\n",
       "</style>\n",
       "<table border=\"1\" class=\"dataframe\">\n",
       "  <thead>\n",
       "    <tr style=\"text-align: right;\">\n",
       "      <th></th>\n",
       "      <th>series_id</th>\n",
       "      <th>timestamp</th>\n",
       "      <th>consumption</th>\n",
       "      <th>temperature</th>\n",
       "    </tr>\n",
       "    <tr>\n",
       "      <th>rowid</th>\n",
       "      <th></th>\n",
       "      <th></th>\n",
       "      <th></th>\n",
       "      <th></th>\n",
       "    </tr>\n",
       "  </thead>\n",
       "  <tbody>\n",
       "    <tr>\n",
       "      <th>0</th>\n",
       "      <td>103088</td>\n",
       "      <td>2014-12-24 00:00:00</td>\n",
       "      <td>101842.233424</td>\n",
       "      <td>NaN</td>\n",
       "    </tr>\n",
       "    <tr>\n",
       "      <th>1</th>\n",
       "      <td>103088</td>\n",
       "      <td>2014-12-24 01:00:00</td>\n",
       "      <td>105878.048906</td>\n",
       "      <td>NaN</td>\n",
       "    </tr>\n",
       "    <tr>\n",
       "      <th>2</th>\n",
       "      <td>103088</td>\n",
       "      <td>2014-12-24 02:00:00</td>\n",
       "      <td>91619.105008</td>\n",
       "      <td>NaN</td>\n",
       "    </tr>\n",
       "    <tr>\n",
       "      <th>3</th>\n",
       "      <td>103088</td>\n",
       "      <td>2014-12-24 03:00:00</td>\n",
       "      <td>94473.706203</td>\n",
       "      <td>NaN</td>\n",
       "    </tr>\n",
       "    <tr>\n",
       "      <th>4</th>\n",
       "      <td>103088</td>\n",
       "      <td>2014-12-24 04:00:00</td>\n",
       "      <td>96976.755526</td>\n",
       "      <td>NaN</td>\n",
       "    </tr>\n",
       "  </tbody>\n",
       "</table>\n",
       "</div>"
      ],
      "text/plain": [
       "       series_id           timestamp    consumption  temperature\n",
       "rowid                                                           \n",
       "0         103088 2014-12-24 00:00:00  101842.233424          NaN\n",
       "1         103088 2014-12-24 01:00:00  105878.048906          NaN\n",
       "2         103088 2014-12-24 02:00:00   91619.105008          NaN\n",
       "3         103088 2014-12-24 03:00:00   94473.706203          NaN\n",
       "4         103088 2014-12-24 04:00:00   96976.755526          NaN"
      ]
     },
     "execution_count": 32,
     "metadata": {},
     "output_type": "execute_result"
    }
   ],
   "source": [
    "consumption_train_data = pd.read_csv('consumption_train.csv', \n",
    "                                index_col=0, parse_dates=['timestamp'])\n",
    "cold_start_test = pd.read_csv('cold_start_test.csv', \n",
    "                              index_col=0, parse_dates=['timestamp'])\n",
    "submission_format = pd.read_csv('submission_format.csv',\n",
    "                                index_col='pred_id',\n",
    "                                parse_dates=['timestamp'])\n",
    "# copy submission format and fill in values\n",
    "my_submission = submission_format.copy()\n",
    "\n",
    "describe_training_data(consumption_train_data)\n",
    "consumption_train_data.head(5)"
   ]
  },
  {
   "cell_type": "code",
   "execution_count": 45,
   "metadata": {},
   "outputs": [
    {
     "name": "stdout",
     "output_type": "stream",
     "text": [
      "There are 81 training series totaling 2268 days (54432 hours) of consumption data.\n"
     ]
    }
   ],
   "source": [
    "# choose subset of series for training\n",
    "frac_series_to_use = 0.1\n",
    "\n",
    "rng = np.random.RandomState(seed=RANDOM_SEED)\n",
    "series_ids = consumption_train_data.series_id.unique()\n",
    "series_mask = rng.binomial(1,\n",
    "                           frac_series_to_use,\n",
    "                           size=series_ids.shape).astype(bool)\n",
    "training_series = series_ids[series_mask]\n",
    "\n",
    "# reduce training data to series subset\n",
    "consumption_train = consumption_train_data[consumption_train_data.series_id.isin(training_series)]\n",
    "\n",
    "# describe the reduced set\n",
    "describe_training_data(consumption_train)"
   ]
  },
  {
   "cell_type": "markdown",
   "metadata": {},
   "source": [
    "# Visualize test and prediction windows"
   ]
  },
  {
   "cell_type": "code",
   "execution_count": 42,
   "metadata": {},
   "outputs": [
    {
     "data": {
      "image/png": "[encoded data removed]",
      "text/plain": [
       "<Figure size 3240x1080 with 1 Axes>"
      ]
     },
     "metadata": {},
     "output_type": "display_data"
    }
   ],
   "source": [
    "# visualize the cold start and prediction windows\n",
    "num_to_plot = 40\n",
    "\n",
    "fig, ax = plt.subplots(figsize=(45, 15))\n",
    "\n",
    "cold_start_map = {'hourly': 1, 'daily': 7, 'weekly': 14}\n",
    "\n",
    "rng = np.random.RandomState(seed=5425)\n",
    "series_to_plot = rng.choice(cold_start_test.series_id.unique(), num_to_plot)\n",
    "\n",
    "for i, series_id in enumerate(series_to_plot):\n",
    "    # get relevant information about the test series from coldstart data\n",
    "    series_data = cold_start_test[cold_start_test.series_id == series_id]\n",
    "    start_cold = series_data.timestamp.min()\n",
    "    start_preds = series_data.timestamp.max()\n",
    "    \n",
    "    # get prediction stop from submission format\n",
    "    stop_preds = submission_format[submission_format.series_id == series_id].timestamp.max()\n",
    "    \n",
    "    # plot the cold start and prediction window relative sizes\n",
    "    ax.plot([start_cold, start_preds], [i, i], c='#6496e5', linewidth=num_to_plot / 3)\n",
    "    ax.plot([start_preds, stop_preds], [i, i], c='#e25522', linewidth=num_to_plot / 3)\n",
    "\n",
    "# the y tick labels don't mean anything so turn them off\n",
    "ax.set_yticks([])\n",
    "plt.tick_params(labelsize=35)\n",
    "plt.legend(['Cold Start (1-14 Days)', \n",
    "            'Prediction Window'], \n",
    "           fontsize=30)\n",
    "\n",
    "plt.title(f'{num_to_plot} Series Cold Starts And Their Prediction Windows', fontsize=50);"
   ]
  },
  {
   "cell_type": "markdown",
   "metadata": {},
   "source": [
    "# initiate a LSTM with tensorflow"
   ]
  },
  {
   "cell_type": "code",
   "execution_count": 43,
   "metadata": {},
   "outputs": [],
   "source": [
    "# lag of 24 to simulate smallest cold start window. Our series\n",
    "# will be converted to a num_timesteps x lag size matrix\n",
    "lag =  24\n",
    "\n",
    "# model parameters\n",
    "num_neurons = 24\n",
    "batch_size = 1  # this forces the lstm to step through each time-step one at a time\n",
    "batch_input_shape=(batch_size, 1, lag)\n",
    "\n",
    "# instantiate a sequential model\n",
    "model = Sequential()\n",
    "\n",
    "# add LSTM layer - stateful MUST be true here in \n",
    "# order to learn the patterns within a series\n",
    "model.add(LSTM(units=num_neurons, \n",
    "              batch_input_shape=batch_input_shape, \n",
    "              stateful=True))\n",
    "\n",
    "# followed by a dense layer with a single output for regression\n",
    "model.add(Dense(1))\n",
    "\n",
    "# compile\n",
    "model.compile(loss='mean_absolute_error', optimizer='adam')"
   ]
  },
  {
   "cell_type": "markdown",
   "metadata": {},
   "source": [
    "# fit model"
   ]
  },
  {
   "cell_type": "code",
   "execution_count": null,
   "metadata": {},
   "outputs": [
    {
     "name": "stderr",
     "output_type": "stream",
     "text": [
      "\n",
      "Learning Consumption Trends - Epoch:   0%|          | 0/10 [00:00<?, ?it/s]\n",
      "Learning Consumption Trends - Epoch:  10%|█         | 1/10 [01:20<12:01, 80.17s/it]\n",
      "Learning Consumption Trends - Epoch:  20%|██        | 2/10 [02:50<11:21, 85.22s/it]\n",
      "Learning Consumption Trends - Epoch:  30%|███       | 3/10 [04:32<10:36, 90.97s/it]"
     ]
    }
   ],
   "source": [
    "%%time\n",
    "num_training_series = consumption_train.series_id.nunique()\n",
    "num_passes_through_data = 10\n",
    "\n",
    "for i in tqdm(range(num_passes_through_data), \n",
    "              total=num_passes_through_data, \n",
    "              desc='Learning Consumption Trends - Epoch'):\n",
    "    \n",
    "    # reset the LSTM state for training on each series\n",
    "    for ser_id, ser_data in consumption_train.groupby('series_id'):\n",
    "\n",
    "        # prepare the data\n",
    "        X, y, scaler = prepare_training_data(ser_data.consumption, lag)\n",
    "\n",
    "        # fit the model: note that we don't shuffle batches (it would ruin the sequence)\n",
    "        # and that we reset states only after an entire X has been fit, instead of after\n",
    "        # each (size 1) batch, as is the case when stateful=False\n",
    "        model.fit(X, y, epochs=1, batch_size=batch_size, verbose=0, shuffle=False)\n",
    "        model.reset_states()"
   ]
  },
  {
   "cell_type": "markdown",
   "metadata": {},
   "source": [
    "# make prediction"
   ]
  },
  {
   "cell_type": "code",
   "execution_count": 23,
   "metadata": {},
   "outputs": [
    {
     "name": "stderr",
     "output_type": "stream",
     "text": [
      "Forecasting from Cold Start Data: 100%|██████████| 625/625 [04:41<00:00,  2.22it/s]\n"
     ]
    },
    {
     "name": "stdout",
     "output_type": "stream",
     "text": [
      "Wall time: 4min 41s\n"
     ]
    }
   ],
   "source": [
    "%%time\n",
    "pred_window_to_num_preds = {'hourly': 24, 'daily': 7, 'weekly': 2}\n",
    "pred_window_to_num_pred_hours = {'hourly': 24, 'daily': 7 * 24, 'weekly': 2 * 7 * 24}\n",
    "\n",
    "num_test_series = my_submission.series_id.nunique()\n",
    "\n",
    "model.reset_states()\n",
    "\n",
    "for ser_id, pred_df in tqdm(my_submission.groupby('series_id'), \n",
    "                            total=num_test_series, \n",
    "                            desc=\"Forecasting from Cold Start Data\"):\n",
    "        \n",
    "    # get info about this series' prediction window\n",
    "    pred_window = pred_df.prediction_window.unique()[0]\n",
    "    num_preds = pred_window_to_num_preds[pred_window]\n",
    "    num_pred_hours = pred_window_to_num_pred_hours[pred_window]\n",
    "    \n",
    "    # prepare cold start data\n",
    "    series_data = cold_start_test[cold_start_test.series_id == ser_id].consumption\n",
    "    cold_X, cold_y, scaler = prepare_training_data(series_data, lag)\n",
    "    \n",
    "    # fine tune our lstm model to this site using cold start data    \n",
    "    model.fit(cold_X, cold_y, epochs=1, batch_size=batch_size, verbose=0, shuffle=False)\n",
    "    \n",
    "    # make hourly forecasts for duration of pred window\n",
    "    preds = generate_hourly_forecast(num_pred_hours, series_data, model, scaler, lag)\n",
    "    \n",
    "    # reduce by taking sum over each sub window in pred window\n",
    "    reduced_preds = [pred.sum() for pred in np.split(preds, num_preds)]\n",
    "    \n",
    "    # store result in submission DataFrame\n",
    "    ser_id_mask = my_submission.series_id == ser_id\n",
    "    my_submission.loc[ser_id_mask, 'consumption'] = reduced_preds"
   ]
  },
  {
   "cell_type": "markdown",
   "metadata": {},
   "source": [
    "# submission"
   ]
  },
  {
   "cell_type": "code",
   "execution_count": null,
   "metadata": {},
   "outputs": [],
   "source": [
    "save_path.mkdir(exist_ok=True, parents=True)\n",
    "\n",
    "my_submission.to_csv(\"my_submmission.csv\", index_label='pred_id')\n",
    "!head ../data/submissions/my_submmission.csv"
   ]
  }
 ],
 "metadata": {
  "kernelspec": {
   "display_name": "Python 3",
   "language": "python",
   "name": "python3"
  },
  "language_info": {
   "codemirror_mode": {
    "name": "ipython",
    "version": 3
   },
   "file_extension": ".py",
   "mimetype": "text/x-python",
   "name": "python",
   "nbconvert_exporter": "python",
   "pygments_lexer": "ipython3",
   "version": "3.6.5"
  }
 },
 "nbformat": 4,
 "nbformat_minor": 2
}
