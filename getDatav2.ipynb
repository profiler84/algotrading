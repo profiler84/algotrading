{
 "cells": [
  {
   "cell_type": "code",
   "execution_count": 365,
   "metadata": {
    "collapsed": true
   },
   "outputs": [],
   "source": [
    "%matplotlib inline\n",
    "import pandas as pd\n",
    "from datetime import datetime\n",
    "import quandl\n",
    "import numpy as np\n",
    "import matplotlib.pyplot as plt\n",
    "import ssl\n",
    "import sklearn.preprocessing as prep\n",
    "import os\n",
    "import datetime\n",
    "import fix_yahoo_finance as yf\n",
    "from pandas_datareader import data as pdr\n",
    "yf.pdr_override()"
   ]
  },
  {
   "cell_type": "code",
   "execution_count": 34,
   "metadata": {
    "collapsed": true
   },
   "outputs": [],
   "source": [
    "quandl.ApiConfig.api_key = \"xoemPs9s3Dtwf3aQxQ-3\"\n",
    "start=\"2010-01-02\"\n",
    "\n",
    "INTC = pdr.get_data_yahoo(\"INTC\",start=start)\n",
    "MSFT = pdr.get_data_yahoo(\"MSFT\",start=start)\n",
    "AMZN = pdr.get_data_yahoo(\"AMZN\",start=start)\n",
    "NVDA = pdr.get_data_yahoo(\"NVDA\",start=start)\n",
    "GOOG = pdr.get_data_yahoo(\"GOOG\",start=start)\n",
    "\n",
    "# macro data \n",
    "EUROSTOXX50 = pdr.get_data_yahoo(\"FEZ\",start=start)\n",
    "SNP500 = pdr.get_data_yahoo(\"^GSPC\",start=start)\n",
    "CONS_DESCRETE = pdr.get_data_yahoo(\"XLY\",start=start)\n",
    "SNP_TECH = pdr.get_data_yahoo(\"XLK\",start=start)\n",
    "NASDAQ_COMP = pdr.get_data_yahoo(\"^IXIC\",start=start)\n",
    "\n"
   ]
  },
  {
   "cell_type": "code",
   "execution_count": 354,
   "metadata": {},
   "outputs": [],
   "source": [
    "# FRED & Treasury\n",
    "yieldr = quandl.get(\"USTREASURY/REALYIELD\", start_date=start, verify=False)\n",
    "consumer_price_index = quandl.get(\"FRED/CPIAUCSL\", start_date=start, verify=False)\n",
    "gdpc = quandl.get(\"FRED/GDPC1\", start_date=start, verify=False)\n",
    "tnote_y10 = quandl.get(\"FRED/DGS10\", start_date=start, verify=False)\n",
    "financial_stress = quandl.get(\"FRED/STLFSI\", start_date=start, verify=False)\n",
    "effective_federal_fund_rate = quandl.get(\"FRED/FEDFUNDS\", start_date=start, verify=False)\n"
   ]
  },
  {
   "cell_type": "code",
   "execution_count": 405,
   "metadata": {},
   "outputs": [],
   "source": [
    "result = pd.concat([INTC, MSFT[['Close']].rename(columns={'Close': 'MSFT'})], axis=1)\n",
    "result = pd.concat([result, AMZN[['Close']].rename(columns={'Close': 'AMZN'})], axis=1)\n",
    "result = pd.concat([result, NVDA[['Close']].rename(columns={'Close': 'NVDA'})], axis=1)\n",
    "result = pd.concat([result, GOOG[['Close']].rename(columns={'Close': 'GOOG'})], axis=1)\n",
    "result = pd.concat([result, EUROSTOXX50[['Close']].rename(columns={'Close': 'EUROSTOXX50'})], axis=1)\n",
    "result = pd.concat([result, SNP500[['Close']].rename(columns={'Close': 'SNP500'})], axis=1)\n",
    "result = pd.concat([result, CONS_DESCRETE[['Close']].rename(columns={'Close': 'CONS_DESCRETE'})], axis=1)\n",
    "result = pd.concat([result, SNP_TECH[['Close']].rename(columns={'Close': 'SNP_TECH'})], axis=1)\n",
    "result = pd.concat([result, NASDAQ_COMP[['Close']].rename(columns={'Close': 'NASDAQ_COMP'})], axis=1)\n",
    "# fred\n",
    "result = pd.concat([result, yieldr[['5 YR']].rename(columns={'5 YR': 'yield_5y'})], axis=1)\n",
    "result = pd.concat([result, tnote_y10.rename(columns={'Value': 'Tnote_10y'})], axis=1)\n",
    "\n",
    "result = result.drop('Adj Close', axis=1)\n",
    "result['Weekday'] = result.index.weekday\n",
    "result['Daymonth'] = result.index.day\n",
    "result['Month'] = result.index.month\n",
    "result['Weakyear'] = result.index.weekofyear\n",
    "\n",
    "result = result.dropna()"
   ]
  },
  {
   "cell_type": "code",
   "execution_count": 406,
   "metadata": {},
   "outputs": [],
   "source": [
    "result[['yield_5y']] = result[['yield_5y']].replace(0, 0.0000001)\n",
    "result[['yield_5y']] = result[['yield_5y']]+10"
   ]
  },
  {
   "cell_type": "code",
   "execution_count": 407,
   "metadata": {},
   "outputs": [],
   "source": [
    "def logReturns(df):\n",
    "    log_ret = np.log(df) - np.log(df.shift(1))\n",
    "    return log_ret"
   ]
  },
  {
   "cell_type": "code",
   "execution_count": 408,
   "metadata": {},
   "outputs": [],
   "source": [
    "logRet = result[['MSFT','AMZN','NVDA','GOOG','EUROSTOXX50','SNP500','CONS_DESCRETE','SNP_TECH','NASDAQ_COMP','yield_5y','Tnote_10y']].apply(logReturns)"
   ]
  },
  {
   "cell_type": "code",
   "execution_count": 409,
   "metadata": {},
   "outputs": [],
   "source": [
    "logRet.columns = [str(col) + '_logReturns' for col in logRet.columns]"
   ]
  },
  {
   "cell_type": "code",
   "execution_count": 410,
   "metadata": {},
   "outputs": [],
   "source": [
    "result = pd.concat([result, logRet], axis=1)\n",
    "scaler = prep.MaxAbsScaler().fit(result[['Volume']].values)\n",
    "result['Volume_Scaled'] = scaler.transform(result[['Volume']].values) "
   ]
  },
  {
   "cell_type": "code",
   "execution_count": 411,
   "metadata": {},
   "outputs": [
    {
     "data": {
      "text/html": [
       "<div>\n",
       "<style>\n",
       "    .dataframe thead tr:only-child th {\n",
       "        text-align: right;\n",
       "    }\n",
       "\n",
       "    .dataframe thead th {\n",
       "        text-align: left;\n",
       "    }\n",
       "\n",
       "    .dataframe tbody tr th {\n",
       "        vertical-align: top;\n",
       "    }\n",
       "</style>\n",
       "<table border=\"1\" class=\"dataframe\">\n",
       "  <thead>\n",
       "    <tr style=\"text-align: right;\">\n",
       "      <th></th>\n",
       "      <th>Open</th>\n",
       "      <th>High</th>\n",
       "      <th>Low</th>\n",
       "      <th>Close</th>\n",
       "      <th>Volume</th>\n",
       "      <th>MSFT</th>\n",
       "      <th>AMZN</th>\n",
       "      <th>NVDA</th>\n",
       "      <th>GOOG</th>\n",
       "      <th>EUROSTOXX50</th>\n",
       "      <th>...</th>\n",
       "      <th>NVDA_logReturns</th>\n",
       "      <th>GOOG_logReturns</th>\n",
       "      <th>EUROSTOXX50_logReturns</th>\n",
       "      <th>SNP500_logReturns</th>\n",
       "      <th>CONS_DESCRETE_logReturns</th>\n",
       "      <th>SNP_TECH_logReturns</th>\n",
       "      <th>NASDAQ_COMP_logReturns</th>\n",
       "      <th>yield_5y_logReturns</th>\n",
       "      <th>Tnote_10y_logReturns</th>\n",
       "      <th>Volume_Scaled</th>\n",
       "    </tr>\n",
       "    <tr>\n",
       "      <th>Date</th>\n",
       "      <th></th>\n",
       "      <th></th>\n",
       "      <th></th>\n",
       "      <th></th>\n",
       "      <th></th>\n",
       "      <th></th>\n",
       "      <th></th>\n",
       "      <th></th>\n",
       "      <th></th>\n",
       "      <th></th>\n",
       "      <th></th>\n",
       "      <th></th>\n",
       "      <th></th>\n",
       "      <th></th>\n",
       "      <th></th>\n",
       "      <th></th>\n",
       "      <th></th>\n",
       "      <th></th>\n",
       "      <th></th>\n",
       "      <th></th>\n",
       "      <th></th>\n",
       "    </tr>\n",
       "  </thead>\n",
       "  <tbody>\n",
       "    <tr>\n",
       "      <th>2010-01-04</th>\n",
       "      <td>20.790001</td>\n",
       "      <td>21.030001</td>\n",
       "      <td>20.73</td>\n",
       "      <td>20.879999</td>\n",
       "      <td>47800900.0</td>\n",
       "      <td>30.950001</td>\n",
       "      <td>133.899994</td>\n",
       "      <td>18.490000</td>\n",
       "      <td>311.349976</td>\n",
       "      <td>42.900002</td>\n",
       "      <td>...</td>\n",
       "      <td>NaN</td>\n",
       "      <td>NaN</td>\n",
       "      <td>NaN</td>\n",
       "      <td>NaN</td>\n",
       "      <td>NaN</td>\n",
       "      <td>NaN</td>\n",
       "      <td>NaN</td>\n",
       "      <td>NaN</td>\n",
       "      <td>NaN</td>\n",
       "      <td>0.240202</td>\n",
       "    </tr>\n",
       "    <tr>\n",
       "      <th>2010-01-05</th>\n",
       "      <td>20.940001</td>\n",
       "      <td>20.990000</td>\n",
       "      <td>20.60</td>\n",
       "      <td>20.870001</td>\n",
       "      <td>52357700.0</td>\n",
       "      <td>30.959999</td>\n",
       "      <td>134.690002</td>\n",
       "      <td>18.760000</td>\n",
       "      <td>309.978882</td>\n",
       "      <td>42.700001</td>\n",
       "      <td>...</td>\n",
       "      <td>0.014497</td>\n",
       "      <td>-0.004413</td>\n",
       "      <td>-0.004673</td>\n",
       "      <td>0.003111</td>\n",
       "      <td>0.003660</td>\n",
       "      <td>-0.001290</td>\n",
       "      <td>0.000126</td>\n",
       "      <td>-0.007634</td>\n",
       "      <td>-0.020998</td>\n",
       "      <td>0.263101</td>\n",
       "    </tr>\n",
       "    <tr>\n",
       "      <th>2010-01-06</th>\n",
       "      <td>20.809999</td>\n",
       "      <td>20.930000</td>\n",
       "      <td>20.67</td>\n",
       "      <td>20.799999</td>\n",
       "      <td>40037400.0</td>\n",
       "      <td>30.770000</td>\n",
       "      <td>132.250000</td>\n",
       "      <td>18.879999</td>\n",
       "      <td>302.164703</td>\n",
       "      <td>42.639999</td>\n",
       "      <td>...</td>\n",
       "      <td>0.006376</td>\n",
       "      <td>-0.025532</td>\n",
       "      <td>-0.001406</td>\n",
       "      <td>0.000545</td>\n",
       "      <td>0.001328</td>\n",
       "      <td>-0.011251</td>\n",
       "      <td>-0.003306</td>\n",
       "      <td>0.000000</td>\n",
       "      <td>0.020998</td>\n",
       "      <td>0.201190</td>\n",
       "    </tr>\n",
       "  </tbody>\n",
       "</table>\n",
       "<p>3 rows × 32 columns</p>\n",
       "</div>"
      ],
      "text/plain": [
       "                 Open       High    Low      Close      Volume       MSFT  \\\n",
       "Date                                                                        \n",
       "2010-01-04  20.790001  21.030001  20.73  20.879999  47800900.0  30.950001   \n",
       "2010-01-05  20.940001  20.990000  20.60  20.870001  52357700.0  30.959999   \n",
       "2010-01-06  20.809999  20.930000  20.67  20.799999  40037400.0  30.770000   \n",
       "\n",
       "                  AMZN       NVDA        GOOG  EUROSTOXX50      ...        \\\n",
       "Date                                                            ...         \n",
       "2010-01-04  133.899994  18.490000  311.349976    42.900002      ...         \n",
       "2010-01-05  134.690002  18.760000  309.978882    42.700001      ...         \n",
       "2010-01-06  132.250000  18.879999  302.164703    42.639999      ...         \n",
       "\n",
       "            NVDA_logReturns  GOOG_logReturns  EUROSTOXX50_logReturns  \\\n",
       "Date                                                                   \n",
       "2010-01-04              NaN              NaN                     NaN   \n",
       "2010-01-05         0.014497        -0.004413               -0.004673   \n",
       "2010-01-06         0.006376        -0.025532               -0.001406   \n",
       "\n",
       "            SNP500_logReturns  CONS_DESCRETE_logReturns  SNP_TECH_logReturns  \\\n",
       "Date                                                                           \n",
       "2010-01-04                NaN                       NaN                  NaN   \n",
       "2010-01-05           0.003111                  0.003660            -0.001290   \n",
       "2010-01-06           0.000545                  0.001328            -0.011251   \n",
       "\n",
       "            NASDAQ_COMP_logReturns  yield_5y_logReturns  Tnote_10y_logReturns  \\\n",
       "Date                                                                            \n",
       "2010-01-04                     NaN                  NaN                   NaN   \n",
       "2010-01-05                0.000126            -0.007634             -0.020998   \n",
       "2010-01-06               -0.003306             0.000000              0.020998   \n",
       "\n",
       "            Volume_Scaled  \n",
       "Date                       \n",
       "2010-01-04       0.240202  \n",
       "2010-01-05       0.263101  \n",
       "2010-01-06       0.201190  \n",
       "\n",
       "[3 rows x 32 columns]"
      ]
     },
     "execution_count": 411,
     "metadata": {},
     "output_type": "execute_result"
    }
   ],
   "source": [
    "result.head(3)"
   ]
  },
  {
   "cell_type": "code",
   "execution_count": 434,
   "metadata": {},
   "outputs": [
    {
     "ename": "ValueError",
     "evalue": "Expected 2D array, got 1D array instead:\narray=[ 0.070002 -0.26      0.16     ...,  1.959999  1.73      1.599998].\nReshape your data either using array.reshape(-1, 1) if your data has a single feature or array.reshape(1, -1) if it contains a single sample.",
     "output_type": "error",
     "traceback": [
      "\u001b[1;31m---------------------------------------------------------------------------\u001b[0m",
      "\u001b[1;31mValueError\u001b[0m                                Traceback (most recent call last)",
      "\u001b[1;32m<ipython-input-434-456b837aa097>\u001b[0m in \u001b[0;36m<module>\u001b[1;34m()\u001b[0m\n\u001b[0;32m      1\u001b[0m \u001b[0mmomentum\u001b[0m \u001b[1;33m=\u001b[0m \u001b[0mresult\u001b[0m\u001b[1;33m[\u001b[0m\u001b[1;34m'Close'\u001b[0m\u001b[1;33m]\u001b[0m\u001b[1;33m.\u001b[0m\u001b[0mdiff\u001b[0m\u001b[1;33m(\u001b[0m\u001b[0mperiods\u001b[0m\u001b[1;33m=\u001b[0m\u001b[1;36m5\u001b[0m\u001b[1;33m)\u001b[0m\u001b[1;33m\u001b[0m\u001b[0m\n\u001b[0;32m      2\u001b[0m \u001b[0mmomentum\u001b[0m \u001b[1;33m=\u001b[0m \u001b[0mmomentum\u001b[0m\u001b[1;33m[\u001b[0m\u001b[1;33m~\u001b[0m\u001b[0mnp\u001b[0m\u001b[1;33m.\u001b[0m\u001b[0misnan\u001b[0m\u001b[1;33m(\u001b[0m\u001b[0mmomentum\u001b[0m\u001b[1;33m)\u001b[0m\u001b[1;33m]\u001b[0m\u001b[1;33m\u001b[0m\u001b[0m\n\u001b[1;32m----> 3\u001b[1;33m \u001b[0mscaler1\u001b[0m \u001b[1;33m=\u001b[0m \u001b[0mprep\u001b[0m\u001b[1;33m.\u001b[0m\u001b[0mMinMaxScaler\u001b[0m\u001b[1;33m(\u001b[0m\u001b[0mcopy\u001b[0m\u001b[1;33m=\u001b[0m\u001b[1;32mTrue\u001b[0m\u001b[1;33m,\u001b[0m \u001b[0mfeature_range\u001b[0m\u001b[1;33m=\u001b[0m\u001b[1;33m(\u001b[0m\u001b[1;33m-\u001b[0m\u001b[1;36m1\u001b[0m\u001b[1;33m,\u001b[0m \u001b[1;36m1\u001b[0m\u001b[1;33m)\u001b[0m\u001b[1;33m)\u001b[0m\u001b[1;33m.\u001b[0m\u001b[0mfit\u001b[0m\u001b[1;33m(\u001b[0m\u001b[0mmomentum\u001b[0m\u001b[1;33m)\u001b[0m\u001b[1;33m\u001b[0m\u001b[0m\n\u001b[0m",
      "\u001b[1;32mD:\\Anaconda3\\lib\\site-packages\\sklearn\\preprocessing\\data.py\u001b[0m in \u001b[0;36mfit\u001b[1;34m(self, X, y)\u001b[0m\n\u001b[0;32m    306\u001b[0m         \u001b[1;31m# Reset internal state before fitting\u001b[0m\u001b[1;33m\u001b[0m\u001b[1;33m\u001b[0m\u001b[0m\n\u001b[0;32m    307\u001b[0m         \u001b[0mself\u001b[0m\u001b[1;33m.\u001b[0m\u001b[0m_reset\u001b[0m\u001b[1;33m(\u001b[0m\u001b[1;33m)\u001b[0m\u001b[1;33m\u001b[0m\u001b[0m\n\u001b[1;32m--> 308\u001b[1;33m         \u001b[1;32mreturn\u001b[0m \u001b[0mself\u001b[0m\u001b[1;33m.\u001b[0m\u001b[0mpartial_fit\u001b[0m\u001b[1;33m(\u001b[0m\u001b[0mX\u001b[0m\u001b[1;33m,\u001b[0m \u001b[0my\u001b[0m\u001b[1;33m)\u001b[0m\u001b[1;33m\u001b[0m\u001b[0m\n\u001b[0m\u001b[0;32m    309\u001b[0m \u001b[1;33m\u001b[0m\u001b[0m\n\u001b[0;32m    310\u001b[0m     \u001b[1;32mdef\u001b[0m \u001b[0mpartial_fit\u001b[0m\u001b[1;33m(\u001b[0m\u001b[0mself\u001b[0m\u001b[1;33m,\u001b[0m \u001b[0mX\u001b[0m\u001b[1;33m,\u001b[0m \u001b[0my\u001b[0m\u001b[1;33m=\u001b[0m\u001b[1;32mNone\u001b[0m\u001b[1;33m)\u001b[0m\u001b[1;33m:\u001b[0m\u001b[1;33m\u001b[0m\u001b[0m\n",
      "\u001b[1;32mD:\\Anaconda3\\lib\\site-packages\\sklearn\\preprocessing\\data.py\u001b[0m in \u001b[0;36mpartial_fit\u001b[1;34m(self, X, y)\u001b[0m\n\u001b[0;32m    332\u001b[0m \u001b[1;33m\u001b[0m\u001b[0m\n\u001b[0;32m    333\u001b[0m         X = check_array(X, copy=self.copy, warn_on_dtype=True,\n\u001b[1;32m--> 334\u001b[1;33m                         estimator=self, dtype=FLOAT_DTYPES)\n\u001b[0m\u001b[0;32m    335\u001b[0m \u001b[1;33m\u001b[0m\u001b[0m\n\u001b[0;32m    336\u001b[0m         \u001b[0mdata_min\u001b[0m \u001b[1;33m=\u001b[0m \u001b[0mnp\u001b[0m\u001b[1;33m.\u001b[0m\u001b[0mmin\u001b[0m\u001b[1;33m(\u001b[0m\u001b[0mX\u001b[0m\u001b[1;33m,\u001b[0m \u001b[0maxis\u001b[0m\u001b[1;33m=\u001b[0m\u001b[1;36m0\u001b[0m\u001b[1;33m)\u001b[0m\u001b[1;33m\u001b[0m\u001b[0m\n",
      "\u001b[1;32mD:\\Anaconda3\\lib\\site-packages\\sklearn\\utils\\validation.py\u001b[0m in \u001b[0;36mcheck_array\u001b[1;34m(array, accept_sparse, dtype, order, copy, force_all_finite, ensure_2d, allow_nd, ensure_min_samples, ensure_min_features, warn_on_dtype, estimator)\u001b[0m\n\u001b[0;32m    439\u001b[0m                     \u001b[1;34m\"Reshape your data either using array.reshape(-1, 1) if \"\u001b[0m\u001b[1;33m\u001b[0m\u001b[0m\n\u001b[0;32m    440\u001b[0m                     \u001b[1;34m\"your data has a single feature or array.reshape(1, -1) \"\u001b[0m\u001b[1;33m\u001b[0m\u001b[0m\n\u001b[1;32m--> 441\u001b[1;33m                     \"if it contains a single sample.\".format(array))\n\u001b[0m\u001b[0;32m    442\u001b[0m             \u001b[0marray\u001b[0m \u001b[1;33m=\u001b[0m \u001b[0mnp\u001b[0m\u001b[1;33m.\u001b[0m\u001b[0matleast_2d\u001b[0m\u001b[1;33m(\u001b[0m\u001b[0marray\u001b[0m\u001b[1;33m)\u001b[0m\u001b[1;33m\u001b[0m\u001b[0m\n\u001b[0;32m    443\u001b[0m             \u001b[1;31m# To ensure that array flags are maintained\u001b[0m\u001b[1;33m\u001b[0m\u001b[1;33m\u001b[0m\u001b[0m\n",
      "\u001b[1;31mValueError\u001b[0m: Expected 2D array, got 1D array instead:\narray=[ 0.070002 -0.26      0.16     ...,  1.959999  1.73      1.599998].\nReshape your data either using array.reshape(-1, 1) if your data has a single feature or array.reshape(1, -1) if it contains a single sample."
     ]
    }
   ],
   "source": [
    "momentum = result['Close'].diff(periods=5)\n",
    "momentum = momentum[~np.isnan(momentum)]\n",
    "scaler1 = prep.MinMaxScaler(copy=True, feature_range=(-1, 1)).fit(momentum)\n"
   ]
  },
  {
   "cell_type": "code",
   "execution_count": null,
   "metadata": {
    "collapsed": true
   },
   "outputs": [],
   "source": []
  }
 ],
 "metadata": {
  "kernelspec": {
   "display_name": "Python 3",
   "language": "python",
   "name": "python3"
  },
  "language_info": {
   "codemirror_mode": {
    "name": "ipython",
    "version": 3
   },
   "file_extension": ".py",
   "mimetype": "text/x-python",
   "name": "python",
   "nbconvert_exporter": "python",
   "pygments_lexer": "ipython3",
   "version": "3.6.3"
  }
 },
 "nbformat": 4,
 "nbformat_minor": 2
}
