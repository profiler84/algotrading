{
 "cells": [
  {
   "cell_type": "code",
   "execution_count": null,
   "metadata": {},
   "outputs": [],
   "source": [
    "import pandas as pd\n",
    "import xlrd\n",
    "import numpy as np\n",
    "from ipywidgets import *\n",
    "from ipywidgets import interact,fixed\n",
    "import pdb\n",
    "import matplotlib.pyplot as plt\n",
    "\n",
    "import plotly as py\n",
    "from plotly import tools\n",
    "from plotly.offline import download_plotlyjs, init_notebook_mode, plot, iplot\n",
    "import plotly.graph_objs as go\n",
    "import cufflinks as cf\n",
    "\n",
    "init_notebook_mode(connected=True)\n",
    "pd.set_option('display.max_columns', 150)\n",
    "pd.options.display.max_rows = 150"
   ]
  },
  {
   "cell_type": "markdown",
   "metadata": {},
   "source": [
    "# read data from excel "
   ]
  },
  {
   "cell_type": "code",
   "execution_count": null,
   "metadata": {},
   "outputs": [],
   "source": [
    "data = pd.read_excel('Daten_f_viesha.xlsx',sheet_name='DATENMITTAMB',parse_dates=True,index_col='Datum')\n",
    "lookup = pd.read_excel('Daten_f_viesha.xlsx',sheet_name='lookup')\n",
    "lookup['Kategorie'] = lookup.Kategorie.fillna(method='ffill')\n",
    "#data.set_index(['Datum'])\n",
    "data.describe()"
   ]
  },
  {
   "cell_type": "markdown",
   "metadata": {},
   "source": [
    "# null values?"
   ]
  },
  {
   "cell_type": "code",
   "execution_count": null,
   "metadata": {
    "scrolled": true
   },
   "outputs": [],
   "source": [
    "data.isnull().sum()"
   ]
  },
  {
   "cell_type": "markdown",
   "metadata": {},
   "source": [
    "# drop null value columns"
   ]
  },
  {
   "cell_type": "code",
   "execution_count": null,
   "metadata": {},
   "outputs": [],
   "source": [
    "exclude_cols = ['Feuchte','IGT','PPS','Spaltfestigkeit','Sampler status','Tambour','Tambournummer']\n",
    "data = data.drop(exclude_cols, axis=1)\n",
    "lookup = lookup[~lookup.Parameter.isin(exclude_cols)]\n",
    "data['goodness'] = (0.5*data['Steifigkeit längs'] + data['Steifigkeit quer']) / data['L/Q-Verhältnis']\n",
    "data['Shive long to total'] = data['Shive amount, long']/data['Shive amount, total']*100\n",
    "data['Shive wide to total'] = data['Shive amount, wide']/data['Shive amount, total']*100"
   ]
  },
  {
   "cell_type": "code",
   "execution_count": null,
   "metadata": {},
   "outputs": [],
   "source": [
    "row_filter = pd.DataFrame(data.groupby(['Sorte'])['Sorte'].count())\n",
    "row_filter = row_filter[row_filter.Sorte >= 150]\n",
    "\n",
    "data_filter = data[data.Sorte.isin(row_filter.index.values)]\n",
    "\n",
    "print('-Number of rows raw input: ' + str(len(data)))\n",
    "print('-Number of rows filtered input: ' + str(len(data_filter)))\n",
    "print('---Number of unique Sorte: ' + str(len(data.Sorte.unique())))\n",
    "print('---Number of filtered unique Sorte (>= 150rows): ' + str(len(data_filter.Sorte.unique())))"
   ]
  },
  {
   "cell_type": "markdown",
   "metadata": {},
   "source": [
    "# Correlations?"
   ]
  },
  {
   "cell_type": "code",
   "execution_count": null,
   "metadata": {},
   "outputs": [],
   "source": [
    "def plot_pearson_correlation(data=None,lookup=None, Sorte=None, target_col = 'Dicke'):\n",
    "    if not (Sorte is None):\n",
    "        df = data[data.Sorte==Sorte]\n",
    "    else:\n",
    "        df = data\n",
    "    \n",
    "    x_cols = [col for col in df.columns if col in lookup]\n",
    "              #['Verhältnis HS in MB Einlage','Geschwindigkeit KM m/min','Zug SSW m/min',\n",
    "              #'Zug 1.-2. Presse m/min','Zug 2.-3. Presse m/min ','Zug 3. Presse - VTG m/min']]\n",
    "    labels = []\n",
    "    values = []\n",
    "    for col in x_cols:\n",
    "        labels.append(col)\n",
    "        values.append(np.corrcoef(df[col].values, df[target_col].values)[0,1])\n",
    "    ind = np.arange(len(labels))\n",
    "    width = 0.9\n",
    "    fig, ax = plt.subplots(figsize=(10,10))\n",
    "    plt.grid(True)\n",
    "    rects = ax.barh(ind, np.array(values), color='y')\n",
    "    ax.set_yticks(ind+((width)/2.))\n",
    "    ax.set_yticklabels(labels, rotation='horizontal')\n",
    "    ax.set_xlabel(\"Correlation coefficient\")\n",
    "    ax.set_title(\"Correlation coefficient\")\n",
    "    #autolabel(rects)\n",
    "    plt.show()\n",
    "    \n",
    "\n",
    "def plot_timeseries(data=None,Sorte=None,lookup=None,clip=False,file=None,cluster=None):\n",
    "    if not (Sorte is None):\n",
    "        df = data[data.Sorte==Sorte]\n",
    "    else:\n",
    "        df = data\n",
    "        \n",
    "    x_cols = [col for col in df.columns if col in lookup]\n",
    "    fig = tools.make_subplots(rows=1, cols=1)\n",
    "    for col in x_cols:\n",
    "        y = df[col]\n",
    "        mean = y.mean()\n",
    "        sd = y.std()\n",
    "        lower = mean-0.5*(sd)\n",
    "        upper = mean+0.5*(sd)\n",
    "        #print('lower: ' + str(lower) + ', upper: ' + str(upper))\n",
    "        if clip==True:\n",
    "            y.clip(lower,upper,axis = 1,inplace = True)\n",
    "        df[col] = y\n",
    "    if not (cluster is None):\n",
    "        df = data[data.Kmeans_cluster==cluster]\n",
    "    cf.set_config_file(offline=True, world_readable=True)\n",
    "    df = df[x_cols]\n",
    "    df.iplot(kind='scatter',dimensions=(2200, 650),filename=file,title=file,xTitle='Date',yTitle='fraction') "
   ]
  },
  {
   "cell_type": "code",
   "execution_count": null,
   "metadata": {
    "scrolled": true
   },
   "outputs": [],
   "source": [
    "pd.DataFrame(data = ['Shive long to total'])"
   ]
  },
  {
   "cell_type": "markdown",
   "metadata": {},
   "source": [
    "# Plot Faserdaten non-Fractions over time"
   ]
  },
  {
   "cell_type": "code",
   "execution_count": null,
   "metadata": {},
   "outputs": [],
   "source": [
    "include = pd.DataFrame(lookup.Parameter[lookup.Kategorie=='Faserdaten'])\n",
    "exclude = ['BatchId','Shive batchid','Shive amount, total', 'Shive amount, long','Shive amount, wide']\n",
    "include = include[~include.Parameter.isin(exclude)]\n",
    "include = include[~include.Parameter.str.contains('fraction')]\n",
    "include.append(pd.DataFrame( ['Shive long to total']),ignore_index=True)\n",
    "include.append(pd.DataFrame( ['Shive wide to total']),ignore_index=True)\n",
    "include\n",
    "#plot_timeseries(data=data_filter, lookup = include.values,clip=False,file=\"NonFraction\")"
   ]
  },
  {
   "cell_type": "markdown",
   "metadata": {},
   "source": [
    "# Plot Faserdaten Fractions over time"
   ]
  },
  {
   "cell_type": "code",
   "execution_count": null,
   "metadata": {
    "scrolled": false
   },
   "outputs": [],
   "source": [
    "include = pd.DataFrame(lookup.Parameter[lookup.Kategorie=='Faserdaten'])\n",
    "exclude = ['BatchId','Shive batchid']\n",
    "include = include[~include.Parameter.isin(exclude)]\n",
    "include = include[include.Parameter.str.contains('fraction 1')]\n",
    "include = include[~include.Parameter.str.contains('Shiv')]\n",
    "plot_timeseries(data=data_filter, lookup = include.values,clip=False,file=\"Fraction1\")\n",
    "\n",
    "include = pd.DataFrame(lookup.Parameter[lookup.Kategorie=='Faserdaten'])\n",
    "exclude = ['BatchId','Shive batchid']\n",
    "include = include[~include.Parameter.isin(exclude)]\n",
    "include = include[include.Parameter.str.contains('fraction 2')]\n",
    "include = include[~include.Parameter.str.contains('Shiv')]\n",
    "plot_timeseries(data=data_filter, lookup = include.values,clip=False,file=\"Fraction2\")\n",
    "\n",
    "include = pd.DataFrame(lookup.Parameter[lookup.Kategorie=='Faserdaten'])\n",
    "exclude = ['BatchId','Shive batchid']\n",
    "include = include[~include.Parameter.isin(exclude)]\n",
    "include = include[include.Parameter.str.contains('fraction 3')]\n",
    "include = include[~include.Parameter.str.contains('Shiv')]\n",
    "plot_timeseries(data=data_filter, lookup = include.values,clip=False,file=\"Fraction3\")\n",
    "\n",
    "include = pd.DataFrame(lookup.Parameter[lookup.Kategorie=='Faserdaten'])\n",
    "exclude = ['BatchId','Shive batchid']\n",
    "include = include[~include.Parameter.isin(exclude)]\n",
    "include = include[include.Parameter.str.contains('fraction 4')]\n",
    "include = include[~include.Parameter.str.contains('Shiv')]\n",
    "plot_timeseries(data=data_filter, lookup = include.values,clip=False,file=\"Fraction4\")\n",
    "\n",
    "include = pd.DataFrame(lookup.Parameter[lookup.Kategorie=='Faserdaten'])\n",
    "exclude = ['BatchId','Shive batchid']\n",
    "include = include[~include.Parameter.isin(exclude)]\n",
    "include = include[include.Parameter.str.contains('fraction 5')]\n",
    "include = include[~include.Parameter.str.contains('Shiv')]\n",
    "plot_timeseries(data=data_filter, lookup = include.values,clip=False,file=\"Fraction5\")"
   ]
  },
  {
   "cell_type": "markdown",
   "metadata": {},
   "source": [
    "# Plot Labordaten Steifigkeit & LQV over time"
   ]
  },
  {
   "cell_type": "code",
   "execution_count": null,
   "metadata": {},
   "outputs": [],
   "source": [
    "include = pd.DataFrame(lookup.Parameter[lookup.Kategorie=='Laborergebnisse'])\n",
    "exclude = ['Dicke','Flächengewicht','Feuchte','IGT','PPS','Spaltfestigkeit']\n",
    "include = include[~include.Parameter.isin(exclude)]\n",
    "plot_timeseries(data=data_filter, lookup = include.values,clip=False,file=\"Laborergebnisse_Steifigkeit\")\n",
    "\n",
    "plot_timeseries(data=data_filter, lookup = 'L/Q-Verhältnis',clip=False,file=\"Laborergebnisse_LQV\")"
   ]
  },
  {
   "cell_type": "markdown",
   "metadata": {},
   "source": [
    "# plot Dimensions over time"
   ]
  },
  {
   "cell_type": "code",
   "execution_count": null,
   "metadata": {},
   "outputs": [],
   "source": [
    "include = ['Dicke','Flächengewicht']\n",
    "plot_timeseries(data=data_filter, lookup = include,clip=False,file=\"Laborergebnisse_Dicke_Gewicht\")"
   ]
  },
  {
   "cell_type": "markdown",
   "metadata": {},
   "source": [
    "# Plot normalized Maschinendaten"
   ]
  },
  {
   "cell_type": "code",
   "execution_count": null,
   "metadata": {},
   "outputs": [],
   "source": [
    "include = pd.DataFrame(lookup.Parameter[lookup.Kategorie=='Maschinenparameter'])\n",
    "exclude = ['Verhältnis HS in MB Einlage','Geschwindigkeit KM m/min']\n",
    "include = include[~include.Parameter.isin(exclude)]\n",
    "plot_timeseries(data=data_filter, lookup = include.values,clip=False,file=\"Maschine\")"
   ]
  },
  {
   "cell_type": "markdown",
   "metadata": {},
   "source": [
    "# Korrelation Maschinendaten & Faserdaten"
   ]
  },
  {
   "cell_type": "code",
   "execution_count": null,
   "metadata": {
    "scrolled": false
   },
   "outputs": [],
   "source": [
    "lookup_Maschine = lookup.Parameter[lookup.Kategorie=='Maschinenparameter'].values\n",
    "interact(plot_pearson_correlation\n",
    "         , data = fixed(data_filter)\n",
    "         , lookup = fixed(lookup_Maschine)\n",
    "         , Sorte=data.Sorte.unique()\n",
    "         , target_col= lookup.Parameter[lookup.Kategorie=='Faserdaten']);"
   ]
  },
  {
   "cell_type": "markdown",
   "metadata": {},
   "source": [
    "# Korrelation Maschinendaten-Laborergebnisse"
   ]
  },
  {
   "cell_type": "code",
   "execution_count": null,
   "metadata": {},
   "outputs": [],
   "source": [
    "interact(plot_pearson_correlation\n",
    "         , data = fixed(data_filter)\n",
    "         , lookup = fixed(lookup_Maschine)\n",
    "         , Sorte=data.Sorte.unique()\n",
    "         , target_col= lookup.Parameter[lookup.Kategorie=='Laborergebnisse']);"
   ]
  },
  {
   "cell_type": "markdown",
   "metadata": {},
   "source": [
    "# Korrelation Faserdaten-Laborergebnisse"
   ]
  },
  {
   "cell_type": "code",
   "execution_count": null,
   "metadata": {},
   "outputs": [],
   "source": [
    "lookup_Faser = lookup.Parameter[lookup.Kategorie=='Faserdaten'].values\n",
    "interact(plot_pearson_correlation\n",
    "         , data = fixed(data_filter.dropna())\n",
    "         , lookup = fixed(lookup_Faser)\n",
    "         , Sorte=data.Sorte.unique()\n",
    "         , target_col= lookup.Parameter[lookup.Kategorie=='Laborergebnisse']);"
   ]
  },
  {
   "cell_type": "code",
   "execution_count": null,
   "metadata": {},
   "outputs": [],
   "source": [
    "from sklearn import metrics\n",
    "from sklearn.cluster import KMeans\n",
    "from sklearn.decomposition import PCA\n",
    "from sklearn.preprocessing import scale"
   ]
  },
  {
   "cell_type": "code",
   "execution_count": null,
   "metadata": {},
   "outputs": [],
   "source": [
    "def bench_k_means(estimator, name, data):\n",
    "    estimator.fit(data)"
   ]
  },
  {
   "cell_type": "code",
   "execution_count": null,
   "metadata": {
    "scrolled": false
   },
   "outputs": [],
   "source": [
    "exclude_cols = ['Sorte','Sorte2','Grammatur','Tambour','Geschwindigkeit KM m/min','BatchId','Shive batchid','Tambournummer']\n",
    "data_final = data_filter.drop(exclude_cols, axis=1).fillna(method = 'bfill')\n",
    "for x in data_final.columns:\n",
    "    data_final[x] = pd.to_numeric(data_final[x], errors='coerce')\n",
    "data_final.describe()"
   ]
  },
  {
   "cell_type": "code",
   "execution_count": null,
   "metadata": {},
   "outputs": [],
   "source": [
    "kmeans = KMeans(n_clusters=5)  \n",
    "kmeans.fit(data_final)  \n",
    "#print(kmeans.cluster_centers_)  \n",
    "data_final['Kmeans_cluster'] = kmeans.labels_\n",
    "data_final.describe()"
   ]
  },
  {
   "cell_type": "code",
   "execution_count": null,
   "metadata": {},
   "outputs": [],
   "source": [
    "include = pd.DataFrame(lookup.Parameter[lookup.Kategorie=='Faserdaten'])\n",
    "exclude = ['BatchId','Shive batchid']\n",
    "include = include[~include.Parameter.isin(exclude)]\n",
    "include = include[include.Parameter.str.contains('fraction 4')]\n",
    "include = include[~include.Parameter.str.contains('Shiv')]\n",
    "\n",
    "#plot_timeseries(data=data_filter, lookup = include.values,clip=False, cluster=3, file=\"Maschine\")\n",
    "\n",
    "interact(plot_timeseries\n",
    "         , data = fixed(data_final)\n",
    "         , lookup = fixed(include)\n",
    "         , cluster = 3);"
   ]
  },
  {
   "cell_type": "code",
   "execution_count": null,
   "metadata": {},
   "outputs": [],
   "source": []
  }
 ],
 "metadata": {
  "kernelspec": {
   "display_name": "Python 3",
   "language": "python",
   "name": "python3"
  },
  "language_info": {
   "codemirror_mode": {
    "name": "ipython",
    "version": 3
   },
   "file_extension": ".py",
   "mimetype": "text/x-python",
   "name": "python",
   "nbconvert_exporter": "python",
   "pygments_lexer": "ipython3",
   "version": "3.6.5"
  }
 },
 "nbformat": 4,
 "nbformat_minor": 2
}
