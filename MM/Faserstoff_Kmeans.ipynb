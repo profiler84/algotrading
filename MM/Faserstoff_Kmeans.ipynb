{
 "cells": [
  {
   "cell_type": "code",
   "execution_count": null,
   "metadata": {},
   "outputs": [],
   "source": [
    "from sklearn import metrics\n",
    "from sklearn.cluster import KMeans\n",
    "from sklearn.decomposition import PCA\n",
    "from sklearn.preprocessing import scale\n",
    "\n",
    "import pandas as pd\n",
    "import xlrd\n",
    "import numpy as np\n",
    "from ipywidgets import *\n",
    "from ipywidgets import interact,fixed\n",
    "import pdb\n",
    "import matplotlib.pyplot as plt\n",
    "\n",
    "import plotly as py\n",
    "from plotly import tools\n",
    "from plotly.offline import download_plotlyjs, init_notebook_mode, plot, iplot\n",
    "import plotly.graph_objs as go\n",
    "import cufflinks as cf\n",
    "\n",
    "init_notebook_mode(connected=True)\n",
    "pd.set_option('display.max_columns', 150)\n",
    "pd.options.display.max_rows = 150"
   ]
  },
  {
   "cell_type": "code",
   "execution_count": null,
   "metadata": {},
   "outputs": [],
   "source": [
    "def plot_pearson_correlation(data=None,lookup=None, target_col = 'Dicke'):\n",
    "    df = data\n",
    "    \n",
    "    x_cols = [col for col in df.columns if col in lookup]\n",
    "              #['Verhältnis HS in MB Einlage','Geschwindigkeit KM m/min','Zug SSW m/min',\n",
    "              #'Zug 1.-2. Presse m/min','Zug 2.-3. Presse m/min ','Zug 3. Presse - VTG m/min']]\n",
    "    labels = []\n",
    "    values = []\n",
    "    for col in x_cols:\n",
    "        labels.append(col)\n",
    "        values.append(np.corrcoef(df[col].values, df[target_col].values)[0,1])\n",
    "    ind = np.arange(len(labels))\n",
    "    width = 0.9\n",
    "    fig, ax = plt.subplots(figsize=(5,5))\n",
    "    plt.grid(True)\n",
    "    rects = ax.barh(ind, np.array(values), color='y')\n",
    "    ax.set_yticks(ind+((width)/2.))\n",
    "    ax.set_yticklabels(labels, rotation='horizontal')\n",
    "    ax.set_xlabel(\"Correlation coefficient\")\n",
    "    ax.set_title(\"Correlation coefficient\")\n",
    "    #autolabel(rects)\n",
    "    plt.show()\n",
    "    \n",
    "\n",
    "def plot_timeseries(data=None,Sorte=None,lookup=None,clip=False,file=None,cluster=None,width = 2200, height = 650):\n",
    "    if not (Sorte is None):\n",
    "        df = data[data.Sorte==Sorte]\n",
    "    else:\n",
    "        df = data\n",
    "    if not (lookup is None):\n",
    "        x_cols = [col for col in df.columns if col in lookup]\n",
    "    else:\n",
    "        x_cols = data.columns\n",
    "    fig = tools.make_subplots(rows=1, cols=1, print_grid=False)\n",
    "    for col in x_cols:\n",
    "        y = df[col]\n",
    "        mean = y.mean()\n",
    "        sd = y.std()\n",
    "        lower = mean-5*(sd)\n",
    "        upper = mean+5*(sd)\n",
    "        if clip==True:\n",
    "            #print('lower: ' + str(lower) + ', upper: ' + str(upper))\n",
    "            print(col + ' SD:' + str(sd))\n",
    "            y.clip(lower,upper,inplace = True)\n",
    "        df[col] = y\n",
    "    if not (cluster is None):\n",
    "        df = data[data.Kmeans_cluster==cluster]\n",
    "    cf.set_config_file(offline=True, world_readable=True)\n",
    "    df = df[x_cols]\n",
    "    df.iplot(kind='scatter',dimensions=(width, height),filename=file, margin=(30,30,30,30))\n",
    "    \n",
    "    \n",
    "def get_data(data=None,Sorte=None,lookup=None):\n",
    "    if not (Sorte is None):\n",
    "        df = data[data.Sorte==Sorte]\n",
    "    else:\n",
    "        df = data\n",
    "    x_cols = [col for col in df.columns if col in lookup]\n",
    "    for col in x_cols:\n",
    "        y = df[col]\n",
    "        mean = y.mean()\n",
    "        sd = y.std()\n",
    "        lower = mean-5*(sd)\n",
    "        upper = mean+5*(sd)\n",
    "        df[col] = y  \n",
    "    df = df[x_cols]\n",
    "    return df\n",
    "    #df.plot(figsize = (width,height))"
   ]
  },
  {
   "cell_type": "code",
   "execution_count": null,
   "metadata": {},
   "outputs": [],
   "source": [
    "df = pd.read_pickle('Faserstoff_final.pkl')\n",
    "data_final = df\n",
    "lookup = pd.read_excel('Daten_f_viesha.xlsx',sheet_name='lookup')\n",
    "lookup['Kategorie'] = lookup.Kategorie.fillna(method='ffill')\n",
    "exclude_cols = ['Feuchte','IGT','PPS','Spaltfestigkeit','Sampler status','Tambour','Tambournummer']\n",
    "lookup = lookup[~lookup.Parameter.isin(exclude_cols)]"
   ]
  },
  {
   "cell_type": "code",
   "execution_count": null,
   "metadata": {},
   "outputs": [],
   "source": [
    "sorte_group = pd.DataFrame(data_final.groupby(['Sorte'])['Sorte'].count())\n",
    "plt.figure(num=None, figsize=(18, 10))\n",
    "plt.barh(sorte_group.index,sorte_group.Sorte)\n",
    "plt.grid(True)\n",
    "print('Most produced: ' + sorte_group.sort_values(by='Sorte',ascending =False).head(1).index.values)\n",
    "print('2nd most produced: ' + sorte_group.sort_values(by='Sorte',ascending =False).head(2).tail(1).index.values)\n",
    "print('3rd most produced: ' + sorte_group.sort_values(by='Sorte',ascending =False).head(3).tail(1).index.values)"
   ]
  },
  {
   "cell_type": "code",
   "execution_count": null,
   "metadata": {},
   "outputs": [],
   "source": [
    "kmeans_data = data_final.drop(['Sorte'],axis=1).fillna(method='ffill')\n",
    "#kmeans_data.isnull().any()\n",
    "kmeans = KMeans(n_clusters=3, n_init = 100, verbose = 5, random_state = 2018, n_jobs = -1)  \n",
    "kmeans.fit(kmeans_data)  \n",
    "#print(kmeans.cluster_centers_)  \n",
    "data_final['Kmeans_cluster'] = kmeans.labels_\n",
    "data_final.describe()"
   ]
  },
  {
   "cell_type": "markdown",
   "metadata": {},
   "source": [
    "# goodness = 0.1*'Steifigkeit längs' + 'Steifigkeit quer' - 'L/Q-Verhältnis'"
   ]
  },
  {
   "cell_type": "code",
   "execution_count": null,
   "metadata": {},
   "outputs": [],
   "source": [
    "include = pd.DataFrame(lookup.Parameter[lookup.Kategorie=='Faserdaten'])\n",
    "exclude = ['BatchId','Shive batchid']\n",
    "include = include[~include.Parameter.isin(exclude)]\n",
    "include = include[include.Parameter.str.contains('fraction 4')]\n",
    "include = include[~include.Parameter.str.contains('Shiv')]\n",
    "# Add goodness\n",
    "include = include.append({'Parameter': 'goodness'},ignore_index=True)\n",
    "include = include.append({'Parameter': 'L/Q-Verhältnis'},ignore_index=True)\n",
    "include = include.append({'Parameter': 'Steifigkeit längs'},ignore_index=True)\n",
    "include = include.append({'Parameter': 'Steifigkeit quer'},ignore_index=True)\n",
    "plot_timeseries(data=data_final,Sorte='41-1-2-100-300', lookup = include.values, clip=False, file=\"Maschine\", width = 1200,height = 600)"
   ]
  },
  {
   "cell_type": "code",
   "execution_count": null,
   "metadata": {},
   "outputs": [],
   "source": [
    "c0 = plot_timeseries_plt(data=data_final,Sorte='41-1-2-100-300', lookup = include.values, clip=False, cluster=0)\n",
    "#c0.plot(figsize=(16,10))\n",
    "c1 = plot_timeseries_plt(data=data_final,Sorte='41-1-2-100-300', lookup = include.values, clip=False, cluster=1)\n",
    "c2 = plot_timeseries_plt(data=data_final,Sorte='41-1-2-100-300', lookup = include.values, clip=False, cluster=2)\n"
   ]
  },
  {
   "cell_type": "markdown",
   "metadata": {},
   "source": [
    "# Highest sorte plot"
   ]
  },
  {
   "cell_type": "code",
   "execution_count": null,
   "metadata": {},
   "outputs": [],
   "source": [
    "sortenrein = get_data(data=data_final,Sorte='41-1-2-100-300', lookup = include.values).reset_index().drop(['Datum'],axis = 1)\n",
    "\n",
    "plot_timeseries(data=sortenrein)"
   ]
  },
  {
   "cell_type": "markdown",
   "metadata": {},
   "source": [
    "# corrcoeff with steifigkeit quer"
   ]
  },
  {
   "cell_type": "code",
   "execution_count": null,
   "metadata": {},
   "outputs": [],
   "source": [
    "df = sortenrein.dropna()\n",
    "x_cols =  df.columns\n",
    "target_col = 'Steifigkeit quer'\n",
    "\n",
    "labels = []\n",
    "values = []\n",
    "for col in x_cols:\n",
    "    labels.append(col)\n",
    "    values.append(np.corrcoef(df[col].values, df[target_col].values)[0,1])\n",
    "ind = np.arange(len(labels))\n",
    "width = 0.9\n",
    "fig, ax = plt.subplots(figsize=(5,5))\n",
    "plt.grid(True)\n",
    "rects = ax.barh(ind, np.array(values), color='y')\n",
    "ax.set_yticks(ind+((width)/2.))\n",
    "ax.set_yticklabels(labels, rotation='horizontal')\n",
    "ax.set_xlabel(\"Correlation coefficient\")\n",
    "ax.set_title(\"Correlation coefficient\")\n",
    "#autolabel(rects)\n",
    "plt.show()\n",
    "\n",
    "sortenrein2 = get_data(data=data_final,Sorte='41-1-2-100-275', lookup = include.values).reset_index().drop(['Datum'],axis = 1)\n",
    "interact(plot_pearson_correlation\n",
    "         , data = fixed(sortenrein2.dropna())\n",
    "         , lookup = fixed(sortenrein2.columns)\n",
    "         , target_col= fixed('Steifigkeit quer'));\n",
    "\n",
    "sortenrein3 = get_data(data=data_final,Sorte='41-1-2-100-250', lookup = include.values).reset_index().drop(['Datum'],axis = 1)\n",
    "interact(plot_pearson_correlation\n",
    "         , data = fixed(sortenrein2.dropna())\n",
    "         , lookup = fixed(sortenrein2.columns)\n",
    "         , target_col= fixed('Steifigkeit quer'));"
   ]
  },
  {
   "cell_type": "markdown",
   "metadata": {},
   "source": [
    "# Highest sorte rolling mean plot"
   ]
  },
  {
   "cell_type": "code",
   "execution_count": null,
   "metadata": {
    "scrolled": false
   },
   "outputs": [],
   "source": [
    "include = include[(include.Parameter != 'goodness') & (include.Parameter != 'L/Q-Verhältnis') ]\n",
    "sortenrein = get_data(data=data_final,Sorte='41-1-2-100-300', lookup = include.values).reset_index().drop(['Datum'],axis = 1)\n",
    "sortenrein=sortenrein.rolling(10).mean()\n",
    "sortenrein['Steifigkeit quer'] = sortenrein['Steifigkeit quer']*2\n",
    "sortenrein['Form fraction 4'] = sortenrein['Form fraction 4']*3.5\n",
    "sortenrein['Len fraction 4'] = sortenrein['Len fraction 4']*8\n",
    "plot_timeseries(data=sortenrein)"
   ]
  },
  {
   "cell_type": "code",
   "execution_count": null,
   "metadata": {},
   "outputs": [],
   "source": []
  }
 ],
 "metadata": {
  "kernelspec": {
   "display_name": "Python 3",
   "language": "python",
   "name": "python3"
  },
  "language_info": {
   "codemirror_mode": {
    "name": "ipython",
    "version": 3
   },
   "file_extension": ".py",
   "mimetype": "text/x-python",
   "name": "python",
   "nbconvert_exporter": "python",
   "pygments_lexer": "ipython3",
   "version": "3.6.6"
  }
 },
 "nbformat": 4,
 "nbformat_minor": 2
}
